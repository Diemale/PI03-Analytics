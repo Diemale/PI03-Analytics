{
 "cells": [
  {
   "cell_type": "code",
   "execution_count": 1,
   "id": "9191e11d",
   "metadata": {},
   "outputs": [],
   "source": [
    "import pandas as pd\n",
    "import numpy as np\n",
    "import seaborn as sns\n",
    "import matplotlib.pyplot as plt"
   ]
  },
  {
   "cell_type": "code",
   "execution_count": 7,
   "id": "9a9f750a",
   "metadata": {},
   "outputs": [],
   "source": [
    "dfc = pd.read_csv('dataSets\\\\Coursera_courses.csv')"
   ]
  },
  {
   "cell_type": "code",
   "execution_count": 8,
   "id": "a28f1b1f",
   "metadata": {},
   "outputs": [],
   "source": [
    "dfr = pd.read_csv('dataSets\\\\Coursera_reviews.csv')"
   ]
  },
  {
   "cell_type": "code",
   "execution_count": 9,
   "id": "16ce7e49",
   "metadata": {},
   "outputs": [],
   "source": [
    "dfe = pd.read_csv('datasets\\\\edx_courses.csv')"
   ]
  },
  {
   "cell_type": "code",
   "execution_count": 10,
   "id": "33f850ab",
   "metadata": {},
   "outputs": [],
   "source": [
    "dfu = pd.read_csv('datasets\\\\udemy_courses.csv')"
   ]
  },
  {
   "cell_type": "code",
   "execution_count": 11,
   "id": "2eadb9c2",
   "metadata": {},
   "outputs": [],
   "source": [
    "dfck = pd.read_csv('dataSets\\\\coursera_data_kaggle.csv')"
   ]
  },
  {
   "cell_type": "code",
   "execution_count": 7,
   "id": "5b939490",
   "metadata": {},
   "outputs": [],
   "source": [
    "# devuelve el porcentaje de nulos en cada columna del data frame\n",
    "def get_nan_in_df(data_frame):\n",
    "    # count all null values in each column, sort them by the amount of null values.\n",
    "    nanValues = data_frame.isna().sum().sort_values(ascending=False)\n",
    "    # get the percentage of those values\n",
    "    nanValuesPrct = (nanValues/len(data_frame) )*100\n",
    "    \n",
    "    return nanValuesPrct"
   ]
  },
  {
   "cell_type": "code",
   "execution_count": 8,
   "id": "6df836e5",
   "metadata": {},
   "outputs": [],
   "source": [
    "# devuelve una lista de valores duplicados dentro de una misma columna\n",
    "def get_dup_values_in_column(data_frame, column):\n",
    "     \n",
    "    if column in data_frame.columns:\n",
    "        len_column = len(data_frame[column])\n",
    "        uniques = data_frame[column].unique\n",
    "        if len_column != uniques:\n",
    "            df_dups = data_frame[data_frame[column].duplicated()]\n",
    "            dup_values = df_dups[column].tolist()\n",
    "        \n",
    "        return dup_values\n",
    "    else:\n",
    "        return f'Esta columna no se encuentra en el data frame'"
   ]
  },
  {
   "cell_type": "code",
   "execution_count": 9,
   "id": "e53860f3",
   "metadata": {},
   "outputs": [],
   "source": [
    "# Normalizar columnas de texto en data frame, \n",
    "def normalize_text_type_columns(nombre_funcion, string):\n",
    "    \n",
    "    string = string.strip()\n",
    "    \n",
    "    if nombre_funcion == 'title':\n",
    "        string = string.title()\n",
    "    elif nombre_funcion == 'lower':\n",
    "        string = string.lower()\n",
    "    elif nombre_funcion == 'upper':\n",
    "        string = string.upper()\n",
    "    else:\n",
    "        return f'la función solo acepta uno de los siguientes parámetros: title lower upper' \n",
    "    \n",
    "    return string"
   ]
  },
  {
   "cell_type": "code",
   "execution_count": 10,
   "id": "ea0e2467",
   "metadata": {},
   "outputs": [],
   "source": [
    "# void\n",
    "def normalize_df_text_columns(data_frame, nombre_funcion):\n",
    "    if (nombre_funcion != 'lower')  & (nombre_funcion != 'title') & (nombre_funcion != 'upper'):\n",
    "        print(f'la función solo acepta uno de los siguientes parámetros: title lower upper')\n",
    "    else:    \n",
    "        for columna in data_frame.columns:\n",
    "            if data_frame[columna].dtype == 'object':\n",
    "                data_frame[columna] = data_frame[columna].apply(lambda x: normalize_text_type_columns(nombre_funcion, x))"
   ]
  },
  {
   "cell_type": "markdown",
   "id": "bf762a1b",
   "metadata": {},
   "source": [
    "# Exploración y transformación de los datos"
   ]
  },
  {
   "cell_type": "markdown",
   "id": "2f421c44",
   "metadata": {},
   "source": [
    "__Vamos a comenzar tratando dos datasets de Cousera__"
   ]
  },
  {
   "cell_type": "code",
   "execution_count": 24,
   "id": "1f478f4b",
   "metadata": {},
   "outputs": [
    {
     "name": "stdout",
     "output_type": "stream",
     "text": [
      "<class 'pandas.core.frame.DataFrame'>\n",
      "RangeIndex: 3678 entries, 0 to 3677\n",
      "Data columns (total 12 columns):\n",
      " #   Column               Non-Null Count  Dtype  \n",
      "---  ------               --------------  -----  \n",
      " 0   course_id            3678 non-null   int64  \n",
      " 1   course_title         3678 non-null   object \n",
      " 2   url                  3678 non-null   object \n",
      " 3   is_paid              3678 non-null   bool   \n",
      " 4   price                3678 non-null   int64  \n",
      " 5   num_subscribers      3678 non-null   int64  \n",
      " 6   num_reviews          3678 non-null   int64  \n",
      " 7   num_lectures         3678 non-null   int64  \n",
      " 8   level                3678 non-null   object \n",
      " 9   content_duration     3678 non-null   float64\n",
      " 10  published_timestamp  3678 non-null   object \n",
      " 11  subject              3678 non-null   object \n",
      "dtypes: bool(1), float64(1), int64(5), object(5)\n",
      "memory usage: 319.8+ KB\n"
     ]
    }
   ],
   "source": [
    "dfu.info()"
   ]
  },
  {
   "cell_type": "code",
   "execution_count": 12,
   "id": "86cafb54",
   "metadata": {},
   "outputs": [
    {
     "data": {
      "text/plain": [
       "name           0.0\n",
       "institution    0.0\n",
       "course_url     0.0\n",
       "course_id      0.0\n",
       "dtype: float64"
      ]
     },
     "execution_count": 12,
     "metadata": {},
     "output_type": "execute_result"
    }
   ],
   "source": [
    "#buscamos nulos en el data frame\n",
    "get_nan_in_df(dfc)"
   ]
  },
  {
   "cell_type": "code",
   "execution_count": 13,
   "id": "c6b2f934",
   "metadata": {},
   "outputs": [
    {
     "data": {
      "text/html": [
       "<div>\n",
       "<style scoped>\n",
       "    .dataframe tbody tr th:only-of-type {\n",
       "        vertical-align: middle;\n",
       "    }\n",
       "\n",
       "    .dataframe tbody tr th {\n",
       "        vertical-align: top;\n",
       "    }\n",
       "\n",
       "    .dataframe thead th {\n",
       "        text-align: right;\n",
       "    }\n",
       "</style>\n",
       "<table border=\"1\" class=\"dataframe\">\n",
       "  <thead>\n",
       "    <tr style=\"text-align: right;\">\n",
       "      <th></th>\n",
       "      <th>Unnamed: 0</th>\n",
       "      <th>course_title</th>\n",
       "      <th>course_organization</th>\n",
       "      <th>course_Certificate_type</th>\n",
       "      <th>course_rating</th>\n",
       "      <th>course_difficulty</th>\n",
       "      <th>course_students_enrolled</th>\n",
       "    </tr>\n",
       "  </thead>\n",
       "  <tbody>\n",
       "    <tr>\n",
       "      <th>0</th>\n",
       "      <td>134</td>\n",
       "      <td>(ISC)² Systems Security Certified Practitioner...</td>\n",
       "      <td>(ISC)²</td>\n",
       "      <td>SPECIALIZATION</td>\n",
       "      <td>4.7</td>\n",
       "      <td>Beginner</td>\n",
       "      <td>5.3k</td>\n",
       "    </tr>\n",
       "    <tr>\n",
       "      <th>1</th>\n",
       "      <td>743</td>\n",
       "      <td>A Crash Course in Causality:  Inferring Causal...</td>\n",
       "      <td>University of Pennsylvania</td>\n",
       "      <td>COURSE</td>\n",
       "      <td>4.7</td>\n",
       "      <td>Intermediate</td>\n",
       "      <td>17k</td>\n",
       "    </tr>\n",
       "    <tr>\n",
       "      <th>2</th>\n",
       "      <td>874</td>\n",
       "      <td>A Crash Course in Data Science</td>\n",
       "      <td>Johns Hopkins University</td>\n",
       "      <td>COURSE</td>\n",
       "      <td>4.5</td>\n",
       "      <td>Mixed</td>\n",
       "      <td>130k</td>\n",
       "    </tr>\n",
       "    <tr>\n",
       "      <th>3</th>\n",
       "      <td>413</td>\n",
       "      <td>A Law Student's Toolkit</td>\n",
       "      <td>Yale University</td>\n",
       "      <td>COURSE</td>\n",
       "      <td>4.7</td>\n",
       "      <td>Mixed</td>\n",
       "      <td>91k</td>\n",
       "    </tr>\n",
       "    <tr>\n",
       "      <th>4</th>\n",
       "      <td>635</td>\n",
       "      <td>A Life of Happiness and Fulfillment</td>\n",
       "      <td>Indian School of Business</td>\n",
       "      <td>COURSE</td>\n",
       "      <td>4.8</td>\n",
       "      <td>Mixed</td>\n",
       "      <td>320k</td>\n",
       "    </tr>\n",
       "  </tbody>\n",
       "</table>\n",
       "</div>"
      ],
      "text/plain": [
       "   Unnamed: 0                                       course_title  \\\n",
       "0         134  (ISC)² Systems Security Certified Practitioner...   \n",
       "1         743  A Crash Course in Causality:  Inferring Causal...   \n",
       "2         874                     A Crash Course in Data Science   \n",
       "3         413                            A Law Student's Toolkit   \n",
       "4         635                A Life of Happiness and Fulfillment   \n",
       "\n",
       "          course_organization course_Certificate_type  course_rating  \\\n",
       "0                      (ISC)²          SPECIALIZATION            4.7   \n",
       "1  University of Pennsylvania                  COURSE            4.7   \n",
       "2    Johns Hopkins University                  COURSE            4.5   \n",
       "3             Yale University                  COURSE            4.7   \n",
       "4   Indian School of Business                  COURSE            4.8   \n",
       "\n",
       "  course_difficulty course_students_enrolled  \n",
       "0          Beginner                     5.3k  \n",
       "1      Intermediate                      17k  \n",
       "2             Mixed                     130k  \n",
       "3             Mixed                      91k  \n",
       "4             Mixed                     320k  "
      ]
     },
     "execution_count": 13,
     "metadata": {},
     "output_type": "execute_result"
    }
   ],
   "source": [
    "dfck.head()"
   ]
  },
  {
   "cell_type": "code",
   "execution_count": 14,
   "id": "21877fb8",
   "metadata": {},
   "outputs": [],
   "source": [
    "dfck.drop(columns = 'Unnamed: 0', inplace = True)"
   ]
  },
  {
   "cell_type": "code",
   "execution_count": 15,
   "id": "4ea5c54c",
   "metadata": {},
   "outputs": [
    {
     "data": {
      "text/plain": [
       "course_title                0.0\n",
       "course_organization         0.0\n",
       "course_Certificate_type     0.0\n",
       "course_rating               0.0\n",
       "course_difficulty           0.0\n",
       "course_students_enrolled    0.0\n",
       "dtype: float64"
      ]
     },
     "execution_count": 15,
     "metadata": {},
     "output_type": "execute_result"
    }
   ],
   "source": [
    "#buscamos nulos en el data frame\n",
    "get_nan_in_df(dfck)"
   ]
  },
  {
   "cell_type": "markdown",
   "id": "9e86e087",
   "metadata": {},
   "source": [
    "__Niguno de estos data frames de coursera presenta nulos__"
   ]
  },
  {
   "cell_type": "markdown",
   "id": "dad00893",
   "metadata": {},
   "source": [
    "### Antes de unir estos data frames tenemos que asegurarnos de que no tengan filas duplicadas."
   ]
  },
  {
   "cell_type": "code",
   "execution_count": 16,
   "id": "9569a31a",
   "metadata": {},
   "outputs": [
    {
     "data": {
      "text/html": [
       "<div>\n",
       "<style scoped>\n",
       "    .dataframe tbody tr th:only-of-type {\n",
       "        vertical-align: middle;\n",
       "    }\n",
       "\n",
       "    .dataframe tbody tr th {\n",
       "        vertical-align: top;\n",
       "    }\n",
       "\n",
       "    .dataframe thead th {\n",
       "        text-align: right;\n",
       "    }\n",
       "</style>\n",
       "<table border=\"1\" class=\"dataframe\">\n",
       "  <thead>\n",
       "    <tr style=\"text-align: right;\">\n",
       "      <th></th>\n",
       "      <th>name</th>\n",
       "      <th>institution</th>\n",
       "      <th>course_url</th>\n",
       "      <th>course_id</th>\n",
       "    </tr>\n",
       "  </thead>\n",
       "  <tbody>\n",
       "  </tbody>\n",
       "</table>\n",
       "</div>"
      ],
      "text/plain": [
       "Empty DataFrame\n",
       "Columns: [name, institution, course_url, course_id]\n",
       "Index: []"
      ]
     },
     "execution_count": 16,
     "metadata": {},
     "output_type": "execute_result"
    }
   ],
   "source": [
    "dfc[dfc.duplicated()]"
   ]
  },
  {
   "cell_type": "code",
   "execution_count": 17,
   "id": "76884055",
   "metadata": {},
   "outputs": [
    {
     "data": {
      "text/html": [
       "<div>\n",
       "<style scoped>\n",
       "    .dataframe tbody tr th:only-of-type {\n",
       "        vertical-align: middle;\n",
       "    }\n",
       "\n",
       "    .dataframe tbody tr th {\n",
       "        vertical-align: top;\n",
       "    }\n",
       "\n",
       "    .dataframe thead th {\n",
       "        text-align: right;\n",
       "    }\n",
       "</style>\n",
       "<table border=\"1\" class=\"dataframe\">\n",
       "  <thead>\n",
       "    <tr style=\"text-align: right;\">\n",
       "      <th></th>\n",
       "      <th>course_title</th>\n",
       "      <th>course_organization</th>\n",
       "      <th>course_Certificate_type</th>\n",
       "      <th>course_rating</th>\n",
       "      <th>course_difficulty</th>\n",
       "      <th>course_students_enrolled</th>\n",
       "    </tr>\n",
       "  </thead>\n",
       "  <tbody>\n",
       "  </tbody>\n",
       "</table>\n",
       "</div>"
      ],
      "text/plain": [
       "Empty DataFrame\n",
       "Columns: [course_title, course_organization, course_Certificate_type, course_rating, course_difficulty, course_students_enrolled]\n",
       "Index: []"
      ]
     },
     "execution_count": 17,
     "metadata": {},
     "output_type": "execute_result"
    }
   ],
   "source": [
    "dfck[dfck.duplicated()]"
   ]
  },
  {
   "cell_type": "markdown",
   "id": "d999a1cd",
   "metadata": {},
   "source": [
    "### Ahora revisemos los valores que debieran ser únicos"
   ]
  },
  {
   "cell_type": "markdown",
   "id": "494bdd49",
   "metadata": {},
   "source": [
    "__columnas con los nombres de los cursos__"
   ]
  },
  {
   "cell_type": "code",
   "execution_count": 18,
   "id": "b6a0e041",
   "metadata": {},
   "outputs": [
    {
     "data": {
      "text/plain": [
       "['Introduction to Psychology']"
      ]
     },
     "execution_count": 18,
     "metadata": {},
     "output_type": "execute_result"
    }
   ],
   "source": [
    "get_dup_values_in_column(dfc, 'name')"
   ]
  },
  {
   "cell_type": "code",
   "execution_count": 19,
   "id": "2427cfa8",
   "metadata": {},
   "outputs": [
    {
     "data": {
      "text/html": [
       "<div>\n",
       "<style scoped>\n",
       "    .dataframe tbody tr th:only-of-type {\n",
       "        vertical-align: middle;\n",
       "    }\n",
       "\n",
       "    .dataframe tbody tr th {\n",
       "        vertical-align: top;\n",
       "    }\n",
       "\n",
       "    .dataframe thead th {\n",
       "        text-align: right;\n",
       "    }\n",
       "</style>\n",
       "<table border=\"1\" class=\"dataframe\">\n",
       "  <thead>\n",
       "    <tr style=\"text-align: right;\">\n",
       "      <th></th>\n",
       "      <th>name</th>\n",
       "      <th>institution</th>\n",
       "      <th>course_url</th>\n",
       "      <th>course_id</th>\n",
       "    </tr>\n",
       "  </thead>\n",
       "  <tbody>\n",
       "    <tr>\n",
       "      <th>559</th>\n",
       "      <td>Developing Your Musicianship</td>\n",
       "      <td>Berklee College of Music</td>\n",
       "      <td>https://www.coursera.org/learn/develop-your-mu...</td>\n",
       "      <td>develop-your-musicianship</td>\n",
       "    </tr>\n",
       "  </tbody>\n",
       "</table>\n",
       "</div>"
      ],
      "text/plain": [
       "                             name               institution  \\\n",
       "559  Developing Your Musicianship  Berklee College of Music   \n",
       "\n",
       "                                            course_url  \\\n",
       "559  https://www.coursera.org/learn/develop-your-mu...   \n",
       "\n",
       "                     course_id  \n",
       "559  develop-your-musicianship  "
      ]
     },
     "execution_count": 19,
     "metadata": {},
     "output_type": "execute_result"
    }
   ],
   "source": [
    "dfc[dfc.name == 'Developing Your Musicianship']"
   ]
  },
  {
   "cell_type": "code",
   "execution_count": 20,
   "id": "ae9cc779",
   "metadata": {},
   "outputs": [
    {
     "data": {
      "text/plain": [
       "['Developing Your Musicianship', 'Machine Learning', 'Marketing Digital']"
      ]
     },
     "execution_count": 20,
     "metadata": {},
     "output_type": "execute_result"
    }
   ],
   "source": [
    "list_dups = get_dup_values_in_column(dfck, 'course_title')\n",
    "list_dups"
   ]
  },
  {
   "cell_type": "markdown",
   "id": "1f203bb9",
   "metadata": {},
   "source": [
    "__Los dos valores de la primera lista van a pasar al merge, por estar en el primer data frame. Mientras que los valores de la segunda lista podrían pasar al data frame resultante del merge. Como son pocos casos preferimos resolverlo luego de la combinación.__"
   ]
  },
  {
   "cell_type": "markdown",
   "id": "93f9f33c",
   "metadata": {},
   "source": [
    "### Normalizar las columnas de texto en ambos data frames"
   ]
  },
  {
   "cell_type": "code",
   "execution_count": 21,
   "id": "5d65c779",
   "metadata": {},
   "outputs": [
    {
     "name": "stdout",
     "output_type": "stream",
     "text": [
      "<class 'pandas.core.frame.DataFrame'>\n",
      "RangeIndex: 623 entries, 0 to 622\n",
      "Data columns (total 4 columns):\n",
      " #   Column       Non-Null Count  Dtype \n",
      "---  ------       --------------  ----- \n",
      " 0   name         623 non-null    object\n",
      " 1   institution  623 non-null    object\n",
      " 2   course_url   623 non-null    object\n",
      " 3   course_id    623 non-null    object\n",
      "dtypes: object(4)\n",
      "memory usage: 19.6+ KB\n"
     ]
    }
   ],
   "source": [
    "dfc.info()"
   ]
  },
  {
   "cell_type": "code",
   "execution_count": 22,
   "id": "5b28e560",
   "metadata": {},
   "outputs": [],
   "source": [
    "for columna in dfc.columns:\n",
    "    if dfc[columna].dtype == 'object':\n",
    "        dfc[columna] = dfc[columna].apply(lambda x: normalize_text_type_columns('lower', x))"
   ]
  },
  {
   "cell_type": "code",
   "execution_count": 23,
   "id": "f48c843f",
   "metadata": {},
   "outputs": [],
   "source": [
    "normalize_df_text_columns(dfc,'lower')"
   ]
  },
  {
   "cell_type": "code",
   "execution_count": 24,
   "id": "ba0d6893",
   "metadata": {},
   "outputs": [],
   "source": [
    "normalize_df_text_columns(dfck,'lower')"
   ]
  },
  {
   "cell_type": "markdown",
   "id": "75be018a",
   "metadata": {},
   "source": [
    "### Merge"
   ]
  },
  {
   "cell_type": "code",
   "execution_count": 25,
   "id": "d15125f4",
   "metadata": {},
   "outputs": [],
   "source": [
    "dfck.rename(columns = {'course_title': 'name', 'course_organization': 'institution'}, inplace = True)"
   ]
  },
  {
   "cell_type": "code",
   "execution_count": 26,
   "id": "474c2318",
   "metadata": {},
   "outputs": [],
   "source": [
    "dfc = pd.merge(dfc, dfck, on=['name', \"institution\"], how='left')"
   ]
  },
  {
   "cell_type": "code",
   "execution_count": 27,
   "id": "36ce0100",
   "metadata": {},
   "outputs": [
    {
     "data": {
      "text/plain": [
       "['introduction to psychology', 'developing your musicianship']"
      ]
     },
     "execution_count": 27,
     "metadata": {},
     "output_type": "execute_result"
    }
   ],
   "source": [
    "# buscamos nombres duplicados\n",
    "dups = get_dup_values_in_column(dfc, 'name')\n",
    "dups"
   ]
  },
  {
   "cell_type": "code",
   "execution_count": 28,
   "id": "3c483c43",
   "metadata": {},
   "outputs": [
    {
     "data": {
      "text/html": [
       "<div>\n",
       "<style scoped>\n",
       "    .dataframe tbody tr th:only-of-type {\n",
       "        vertical-align: middle;\n",
       "    }\n",
       "\n",
       "    .dataframe tbody tr th {\n",
       "        vertical-align: top;\n",
       "    }\n",
       "\n",
       "    .dataframe thead th {\n",
       "        text-align: right;\n",
       "    }\n",
       "</style>\n",
       "<table border=\"1\" class=\"dataframe\">\n",
       "  <thead>\n",
       "    <tr style=\"text-align: right;\">\n",
       "      <th></th>\n",
       "      <th>name</th>\n",
       "      <th>institution</th>\n",
       "      <th>course_url</th>\n",
       "      <th>course_id</th>\n",
       "      <th>course_Certificate_type</th>\n",
       "      <th>course_rating</th>\n",
       "      <th>course_difficulty</th>\n",
       "      <th>course_students_enrolled</th>\n",
       "    </tr>\n",
       "  </thead>\n",
       "  <tbody>\n",
       "    <tr>\n",
       "      <th>559</th>\n",
       "      <td>developing your musicianship</td>\n",
       "      <td>berklee college of music</td>\n",
       "      <td>https://www.coursera.org/learn/develop-your-mu...</td>\n",
       "      <td>develop-your-musicianship</td>\n",
       "      <td>course</td>\n",
       "      <td>4.8</td>\n",
       "      <td>mixed</td>\n",
       "      <td>41k</td>\n",
       "    </tr>\n",
       "    <tr>\n",
       "      <th>560</th>\n",
       "      <td>developing your musicianship</td>\n",
       "      <td>berklee college of music</td>\n",
       "      <td>https://www.coursera.org/learn/develop-your-mu...</td>\n",
       "      <td>develop-your-musicianship</td>\n",
       "      <td>specialization</td>\n",
       "      <td>4.8</td>\n",
       "      <td>beginner</td>\n",
       "      <td>54k</td>\n",
       "    </tr>\n",
       "  </tbody>\n",
       "</table>\n",
       "</div>"
      ],
      "text/plain": [
       "                             name               institution  \\\n",
       "559  developing your musicianship  berklee college of music   \n",
       "560  developing your musicianship  berklee college of music   \n",
       "\n",
       "                                            course_url  \\\n",
       "559  https://www.coursera.org/learn/develop-your-mu...   \n",
       "560  https://www.coursera.org/learn/develop-your-mu...   \n",
       "\n",
       "                     course_id course_Certificate_type  course_rating  \\\n",
       "559  develop-your-musicianship                  course            4.8   \n",
       "560  develop-your-musicianship          specialization            4.8   \n",
       "\n",
       "    course_difficulty course_students_enrolled  \n",
       "559             mixed                      41k  \n",
       "560          beginner                      54k  "
      ]
     },
     "execution_count": 28,
     "metadata": {},
     "output_type": "execute_result"
    }
   ],
   "source": [
    "dfdups= dfc[dfc['name'] =='developing your musicianship' ]\n",
    "dfdups"
   ]
  },
  {
   "cell_type": "code",
   "execution_count": 29,
   "id": "ad0c1690",
   "metadata": {},
   "outputs": [
    {
     "data": {
      "text/plain": [
       "True"
      ]
     },
     "execution_count": 29,
     "metadata": {},
     "output_type": "execute_result"
    }
   ],
   "source": [
    "dfc.at[559, 'institution'] == dfc.at[560, 'institution'] "
   ]
  },
  {
   "cell_type": "code",
   "execution_count": 30,
   "id": "97908925",
   "metadata": {},
   "outputs": [
    {
     "data": {
      "text/plain": [
       "True"
      ]
     },
     "execution_count": 30,
     "metadata": {},
     "output_type": "execute_result"
    }
   ],
   "source": [
    "dfc.at[560,'course_url'] == dfc.at[559,'course_url']"
   ]
  },
  {
   "cell_type": "markdown",
   "id": "c0a782f4",
   "metadata": {},
   "source": [
    "__Luego de revisar la página web, comprobamos que \"Developing Your Musicianship\" es el nombre tanto del curso como el nombre del programa del cual el primero forma parte, además no existe una página aparte de la especialización, solo es la del primer curso. Por lo tanto, vamos a dejar ambos resultados.__"
   ]
  },
  {
   "cell_type": "code",
   "execution_count": 31,
   "id": "41de9ecd",
   "metadata": {},
   "outputs": [
    {
     "data": {
      "text/html": [
       "<div>\n",
       "<style scoped>\n",
       "    .dataframe tbody tr th:only-of-type {\n",
       "        vertical-align: middle;\n",
       "    }\n",
       "\n",
       "    .dataframe tbody tr th {\n",
       "        vertical-align: top;\n",
       "    }\n",
       "\n",
       "    .dataframe thead th {\n",
       "        text-align: right;\n",
       "    }\n",
       "</style>\n",
       "<table border=\"1\" class=\"dataframe\">\n",
       "  <thead>\n",
       "    <tr style=\"text-align: right;\">\n",
       "      <th></th>\n",
       "      <th>name</th>\n",
       "      <th>institution</th>\n",
       "      <th>course_url</th>\n",
       "      <th>course_id</th>\n",
       "      <th>course_Certificate_type</th>\n",
       "      <th>course_rating</th>\n",
       "      <th>course_difficulty</th>\n",
       "      <th>course_students_enrolled</th>\n",
       "    </tr>\n",
       "  </thead>\n",
       "  <tbody>\n",
       "    <tr>\n",
       "      <th>559</th>\n",
       "      <td>developing your musicianship</td>\n",
       "      <td>berklee college of music</td>\n",
       "      <td>https://www.coursera.org/learn/develop-your-mu...</td>\n",
       "      <td>develop-your-musicianship</td>\n",
       "      <td>course</td>\n",
       "      <td>4.8</td>\n",
       "      <td>mixed</td>\n",
       "      <td>41k</td>\n",
       "    </tr>\n",
       "    <tr>\n",
       "      <th>560</th>\n",
       "      <td>developing your musicianship</td>\n",
       "      <td>berklee college of music</td>\n",
       "      <td>https://www.coursera.org/learn/develop-your-mu...</td>\n",
       "      <td>develop-your-musicianship</td>\n",
       "      <td>specialization</td>\n",
       "      <td>4.8</td>\n",
       "      <td>beginner</td>\n",
       "      <td>54k</td>\n",
       "    </tr>\n",
       "  </tbody>\n",
       "</table>\n",
       "</div>"
      ],
      "text/plain": [
       "                             name               institution  \\\n",
       "559  developing your musicianship  berklee college of music   \n",
       "560  developing your musicianship  berklee college of music   \n",
       "\n",
       "                                            course_url  \\\n",
       "559  https://www.coursera.org/learn/develop-your-mu...   \n",
       "560  https://www.coursera.org/learn/develop-your-mu...   \n",
       "\n",
       "                     course_id course_Certificate_type  course_rating  \\\n",
       "559  develop-your-musicianship                  course            4.8   \n",
       "560  develop-your-musicianship          specialization            4.8   \n",
       "\n",
       "    course_difficulty course_students_enrolled  \n",
       "559             mixed                      41k  \n",
       "560          beginner                      54k  "
      ]
     },
     "execution_count": 31,
     "metadata": {},
     "output_type": "execute_result"
    }
   ],
   "source": [
    "dfc.iloc[559:561]"
   ]
  },
  {
   "cell_type": "code",
   "execution_count": 32,
   "id": "4139b145",
   "metadata": {},
   "outputs": [
    {
     "data": {
      "text/plain": [
       "course_Certificate_type     27.403846\n",
       "course_rating               27.403846\n",
       "course_difficulty           27.403846\n",
       "course_students_enrolled    27.403846\n",
       "name                         0.000000\n",
       "institution                  0.000000\n",
       "course_url                   0.000000\n",
       "course_id                    0.000000\n",
       "dtype: float64"
      ]
     },
     "execution_count": 32,
     "metadata": {},
     "output_type": "execute_result"
    }
   ],
   "source": [
    "get_nan_in_df(dfc)"
   ]
  },
  {
   "cell_type": "code",
   "execution_count": 33,
   "id": "a79d5417",
   "metadata": {},
   "outputs": [],
   "source": [
    "dfcNan = dfc[dfc.course_rating.isna()]"
   ]
  },
  {
   "cell_type": "code",
   "execution_count": 34,
   "id": "ba582813",
   "metadata": {},
   "outputs": [
    {
     "data": {
      "text/html": [
       "<div>\n",
       "<style scoped>\n",
       "    .dataframe tbody tr th:only-of-type {\n",
       "        vertical-align: middle;\n",
       "    }\n",
       "\n",
       "    .dataframe tbody tr th {\n",
       "        vertical-align: top;\n",
       "    }\n",
       "\n",
       "    .dataframe thead th {\n",
       "        text-align: right;\n",
       "    }\n",
       "</style>\n",
       "<table border=\"1\" class=\"dataframe\">\n",
       "  <thead>\n",
       "    <tr style=\"text-align: right;\">\n",
       "      <th></th>\n",
       "      <th>name</th>\n",
       "      <th>institution</th>\n",
       "      <th>course_Certificate_type</th>\n",
       "      <th>course_rating</th>\n",
       "      <th>course_difficulty</th>\n",
       "      <th>course_students_enrolled</th>\n",
       "    </tr>\n",
       "  </thead>\n",
       "  <tbody>\n",
       "  </tbody>\n",
       "</table>\n",
       "</div>"
      ],
      "text/plain": [
       "Empty DataFrame\n",
       "Columns: [name, institution, course_Certificate_type, course_rating, course_difficulty, course_students_enrolled]\n",
       "Index: []"
      ]
     },
     "execution_count": 34,
     "metadata": {},
     "output_type": "execute_result"
    }
   ],
   "source": [
    "dfck[dfck.name == 'the fundamentals of hotel distribution']"
   ]
  },
  {
   "cell_type": "markdown",
   "id": "61497fe6",
   "metadata": {},
   "source": [
    "#### Acá termina el trabajo con los dos primeros sets de coursera, hora de incorporar el de reviews"
   ]
  },
  {
   "cell_type": "markdown",
   "id": "9baf4627",
   "metadata": {},
   "source": [
    "## Reordenamiento de datos de Coursera"
   ]
  },
  {
   "cell_type": "code",
   "execution_count": 35,
   "id": "2832ff8c",
   "metadata": {},
   "outputs": [
    {
     "data": {
      "text/plain": [
       "reviews         0.009624\n",
       "reviewers       0.000000\n",
       "date_reviews    0.000000\n",
       "rating          0.000000\n",
       "course_id       0.000000\n",
       "dtype: float64"
      ]
     },
     "execution_count": 35,
     "metadata": {},
     "output_type": "execute_result"
    }
   ],
   "source": [
    "get_nan_in_df(dfr)"
   ]
  },
  {
   "cell_type": "code",
   "execution_count": 36,
   "id": "3bf74884",
   "metadata": {},
   "outputs": [],
   "source": [
    "#dfr.head()"
   ]
  },
  {
   "cell_type": "code",
   "execution_count": 37,
   "id": "61d01283",
   "metadata": {},
   "outputs": [],
   "source": [
    "dfr['date_reviews'] = pd.to_datetime(dfr['date_reviews'])"
   ]
  },
  {
   "cell_type": "code",
   "execution_count": 38,
   "id": "787b88ff",
   "metadata": {},
   "outputs": [],
   "source": [
    "# elimar columnas\n",
    "dfr.drop(columns = ['reviews', 'reviewers'], inplace = True)"
   ]
  },
  {
   "cell_type": "markdown",
   "id": "72bab484",
   "metadata": {},
   "source": [
    "Ahora pasemos a conseguir la media de los MOOCS para llevar esos datos al otro dataset"
   ]
  },
  {
   "cell_type": "code",
   "execution_count": 39,
   "id": "ba84e109",
   "metadata": {},
   "outputs": [],
   "source": [
    "# agrupamos los datos del dataframe de los reviews, por curso.\n",
    "course_group = dfr.groupby('course_id')"
   ]
  },
  {
   "cell_type": "code",
   "execution_count": 40,
   "id": "04658be5",
   "metadata": {},
   "outputs": [],
   "source": [
    "# obtenemos la mieda de los ratings para cada grupo y los redondeamos \n",
    "rating_mean = course_group['rating'].mean().apply(lambda x: round(x, 1))"
   ]
  },
  {
   "cell_type": "code",
   "execution_count": 41,
   "id": "093e4e5b",
   "metadata": {},
   "outputs": [],
   "source": [
    "# reseteamos el índice\n",
    "rating_mean = rating_mean.reset_index()"
   ]
  },
  {
   "cell_type": "code",
   "execution_count": 42,
   "id": "d7c0fa92",
   "metadata": {},
   "outputs": [],
   "source": [
    "#rating_mean.iloc[0:50]"
   ]
  },
  {
   "cell_type": "markdown",
   "id": "1412e804",
   "metadata": {},
   "source": [
    "### Unimos los dos dataframes, el de cursos de coursera, con el de los ratings provenientes del data frame de reviews.__"
   ]
  },
  {
   "cell_type": "code",
   "execution_count": 43,
   "id": "35f21643",
   "metadata": {},
   "outputs": [],
   "source": [
    "# utilizamos el método merge con 'outer' como parámetro, para realizar una unión y no perder registros. \n",
    "dfc = pd.merge(dfc, rating_mean, how='outer')"
   ]
  },
  {
   "cell_type": "code",
   "execution_count": 44,
   "id": "4c3b0062",
   "metadata": {},
   "outputs": [],
   "source": [
    "#dfc"
   ]
  },
  {
   "cell_type": "markdown",
   "id": "352e46e1",
   "metadata": {},
   "source": [
    "#### __Hagamos algo similar para las fechas de los reviews, esta vez no elegiremos una media del grupo, sino la fecha del comentario más antigüo, dentro de aquel.__"
   ]
  },
  {
   "cell_type": "markdown",
   "id": "341fd616",
   "metadata": {},
   "source": [
    "__Normalizamos la columna 'course_difficulty' y le cambiamos el nombre__"
   ]
  },
  {
   "cell_type": "code",
   "execution_count": 45,
   "id": "a89d64f5",
   "metadata": {},
   "outputs": [],
   "source": [
    "dfc.rename(columns = {'course_difficulty':'level'}, inplace=True)"
   ]
  },
  {
   "cell_type": "code",
   "execution_count": 46,
   "id": "2ffec75d",
   "metadata": {},
   "outputs": [],
   "source": [
    "# rellenemos los nan\n",
    "dfc.level = dfc.level.fillna('-')     "
   ]
  },
  {
   "cell_type": "code",
   "execution_count": 47,
   "id": "087bfc20",
   "metadata": {},
   "outputs": [],
   "source": [
    "dfc.level= dfc.level.apply(lambda x: x.replace('advanced','expert'))"
   ]
  },
  {
   "cell_type": "code",
   "execution_count": 48,
   "id": "7665d80c",
   "metadata": {},
   "outputs": [
    {
     "data": {
      "text/plain": [
       "0"
      ]
     },
     "execution_count": 48,
     "metadata": {},
     "output_type": "execute_result"
    }
   ],
   "source": [
    "dfc.level.isna().sum()"
   ]
  },
  {
   "cell_type": "code",
   "execution_count": 49,
   "id": "55b1150c",
   "metadata": {},
   "outputs": [
    {
     "data": {
      "text/plain": [
       "beginner        223\n",
       "-               171\n",
       "mixed           145\n",
       "intermediate     76\n",
       "expert            9\n",
       "Name: level, dtype: int64"
      ]
     },
     "execution_count": 49,
     "metadata": {},
     "output_type": "execute_result"
    }
   ],
   "source": [
    "dfc.level.value_counts()"
   ]
  },
  {
   "cell_type": "code",
   "execution_count": 50,
   "id": "a378b703",
   "metadata": {},
   "outputs": [
    {
     "data": {
      "text/plain": [
       "Introductory    621\n",
       "Intermediate    267\n",
       "Advanced         87\n",
       "Name: Level, dtype: int64"
      ]
     },
     "execution_count": 50,
     "metadata": {},
     "output_type": "execute_result"
    }
   ],
   "source": [
    "dfe.Level.value_counts()"
   ]
  },
  {
   "cell_type": "code",
   "execution_count": 51,
   "id": "3ee1b53f",
   "metadata": {},
   "outputs": [
    {
     "data": {
      "text/html": [
       "<div>\n",
       "<style scoped>\n",
       "    .dataframe tbody tr th:only-of-type {\n",
       "        vertical-align: middle;\n",
       "    }\n",
       "\n",
       "    .dataframe tbody tr th {\n",
       "        vertical-align: top;\n",
       "    }\n",
       "\n",
       "    .dataframe thead th {\n",
       "        text-align: right;\n",
       "    }\n",
       "</style>\n",
       "<table border=\"1\" class=\"dataframe\">\n",
       "  <thead>\n",
       "    <tr style=\"text-align: right;\">\n",
       "      <th></th>\n",
       "      <th>date_reviews</th>\n",
       "      <th>rating</th>\n",
       "      <th>course_id</th>\n",
       "    </tr>\n",
       "  </thead>\n",
       "  <tbody>\n",
       "    <tr>\n",
       "      <th>0</th>\n",
       "      <td>2020-02-12</td>\n",
       "      <td>4</td>\n",
       "      <td>google-cbrs-cpi-training</td>\n",
       "    </tr>\n",
       "    <tr>\n",
       "      <th>1</th>\n",
       "      <td>2020-09-28</td>\n",
       "      <td>4</td>\n",
       "      <td>google-cbrs-cpi-training</td>\n",
       "    </tr>\n",
       "    <tr>\n",
       "      <th>2</th>\n",
       "      <td>2020-04-08</td>\n",
       "      <td>4</td>\n",
       "      <td>google-cbrs-cpi-training</td>\n",
       "    </tr>\n",
       "    <tr>\n",
       "      <th>3</th>\n",
       "      <td>2020-02-24</td>\n",
       "      <td>4</td>\n",
       "      <td>google-cbrs-cpi-training</td>\n",
       "    </tr>\n",
       "    <tr>\n",
       "      <th>4</th>\n",
       "      <td>2020-06-18</td>\n",
       "      <td>4</td>\n",
       "      <td>google-cbrs-cpi-training</td>\n",
       "    </tr>\n",
       "  </tbody>\n",
       "</table>\n",
       "</div>"
      ],
      "text/plain": [
       "  date_reviews  rating                 course_id\n",
       "0   2020-02-12       4  google-cbrs-cpi-training\n",
       "1   2020-09-28       4  google-cbrs-cpi-training\n",
       "2   2020-04-08       4  google-cbrs-cpi-training\n",
       "3   2020-02-24       4  google-cbrs-cpi-training\n",
       "4   2020-06-18       4  google-cbrs-cpi-training"
      ]
     },
     "execution_count": 51,
     "metadata": {},
     "output_type": "execute_result"
    }
   ],
   "source": [
    "dfr.head()"
   ]
  },
  {
   "cell_type": "markdown",
   "id": "b2bc3828",
   "metadata": {},
   "source": [
    "__Ya contamos con el dataframe agrupado por cursos. Ahora calculemos el mínimo de cada grupo, esa es la fecha que buscamos.__"
   ]
  },
  {
   "cell_type": "code",
   "execution_count": 52,
   "id": "6e54135d",
   "metadata": {},
   "outputs": [],
   "source": [
    "earliest_date = course_group['date_reviews'].min()"
   ]
  },
  {
   "cell_type": "code",
   "execution_count": 53,
   "id": "b4d5768e",
   "metadata": {},
   "outputs": [],
   "source": [
    "dfgrpdate = earliest_date.to_frame().reset_index().rename(columns={'date_reviews':'first_review_on'})"
   ]
  },
  {
   "cell_type": "code",
   "execution_count": 54,
   "id": "b8dd08e6",
   "metadata": {},
   "outputs": [],
   "source": [
    "#dfgrpdate"
   ]
  },
  {
   "cell_type": "code",
   "execution_count": 55,
   "id": "7363ce28",
   "metadata": {},
   "outputs": [],
   "source": [
    "# # Podemos hacer doble check de los resultados\n",
    "# dfr2 = dfr[dfr['course_id']== 'writing-editing-words']\n",
    "# dfr2.date_reviews.sort_values(ascending = True)"
   ]
  },
  {
   "cell_type": "markdown",
   "id": "f31b84d9",
   "metadata": {},
   "source": [
    "### Volvamos a unir data frames"
   ]
  },
  {
   "cell_type": "code",
   "execution_count": 56,
   "id": "e900d32b",
   "metadata": {},
   "outputs": [],
   "source": [
    "dfc = pd.merge(dfc, dfgrpdate, how='left')"
   ]
  },
  {
   "cell_type": "code",
   "execution_count": 57,
   "id": "b040b037",
   "metadata": {},
   "outputs": [
    {
     "data": {
      "text/plain": [
       "course_Certificate_type     27.403846\n",
       "course_rating               27.403846\n",
       "course_students_enrolled    27.403846\n",
       "rating                       3.044872\n",
       "first_review_on              3.044872\n",
       "name                         0.000000\n",
       "institution                  0.000000\n",
       "course_url                   0.000000\n",
       "course_id                    0.000000\n",
       "level                        0.000000\n",
       "dtype: float64"
      ]
     },
     "execution_count": 57,
     "metadata": {},
     "output_type": "execute_result"
    }
   ],
   "source": [
    "get_nan_in_df(dfc)"
   ]
  },
  {
   "cell_type": "code",
   "execution_count": 58,
   "id": "1f26cd49",
   "metadata": {},
   "outputs": [],
   "source": [
    "#dfc.head()"
   ]
  },
  {
   "cell_type": "markdown",
   "id": "9289a985",
   "metadata": {},
   "source": [
    "__Cambiamos de nombre a las columnas__"
   ]
  },
  {
   "cell_type": "code",
   "execution_count": 59,
   "id": "9a1ced16",
   "metadata": {},
   "outputs": [],
   "source": [
    "dfc.rename(columns={'course_students_enrolled': 'students', 'course_url':'url', 'course_Certificate_type': 'cert_type'}, inplace = True)"
   ]
  },
  {
   "cell_type": "markdown",
   "id": "a20dc7da",
   "metadata": {},
   "source": [
    "__Modifiquemos los valores en 'students' para que sean numéricos__"
   ]
  },
  {
   "cell_type": "code",
   "execution_count": 60,
   "id": "45914813",
   "metadata": {},
   "outputs": [],
   "source": [
    "def normalize_weird_number(num_letra):\n",
    "    numero = 0.0\n",
    "    # no queremos que nos molesten los nan\n",
    "    if type(num_letra) == str:\n",
    "        # si encuetra una m en el valor\n",
    "        if num_letra.find('m') != -1:\n",
    "            # nos quedamos con el número y lo casteamos\n",
    "            numero = float(num_letra.split('m')[0]) * 1000000\n",
    "        elif num_letra.find('k'):\n",
    "            numero = float(num_letra.split('k')[0]) * 1000\n",
    "        else:\n",
    "            print(num_letra)\n",
    "        \n",
    "    return numero"
   ]
  },
  {
   "cell_type": "code",
   "execution_count": 61,
   "id": "9b7a12b8",
   "metadata": {},
   "outputs": [],
   "source": [
    "dfc.students = dfc.students.apply(lambda x: normalize_weird_number(x))"
   ]
  },
  {
   "cell_type": "markdown",
   "id": "6d682983",
   "metadata": {},
   "source": [
    "#### Cambio del tipo de dato"
   ]
  },
  {
   "cell_type": "code",
   "execution_count": 62,
   "id": "80d483e0",
   "metadata": {},
   "outputs": [],
   "source": [
    "dfc.students = dfc.students.astype(int)"
   ]
  },
  {
   "cell_type": "code",
   "execution_count": 63,
   "id": "67f18cc2",
   "metadata": {},
   "outputs": [],
   "source": [
    "dfc.first_review_on = pd.to_datetime(dfc.first_review_on).dt.date"
   ]
  },
  {
   "cell_type": "code",
   "execution_count": null,
   "id": "46f647f6",
   "metadata": {},
   "outputs": [],
   "source": []
  },
  {
   "cell_type": "code",
   "execution_count": 64,
   "id": "746f7bb2",
   "metadata": {},
   "outputs": [],
   "source": [
    "# si bien los valores de la columna rating se consiguieron calculando una media por grupos de los reviews, esta constituye \n",
    "# una buena aproximación y debido a su bajo nivel de nulos vamos a quedarnos con esta columna en lugar de 'course_rating'"
   ]
  },
  {
   "cell_type": "markdown",
   "id": "6fe9bb81",
   "metadata": {},
   "source": [
    "Eliminaremos las siguientes columnas del dataframe de coursera:\n",
    "\n",
    "|Columna              |Razón                                              |\n",
    "|---------------------|---------------------------------------------------|\n",
    "|\"course_rating\"    |27 % de valores nulos, ya tenemos otra columna calculada con los reviews|\n",
    "|\"course_id\"        |Metadata, ya contamos con el nombre|\n",
    "|\"url\" |Metadata|\n",
    "|\"cert_type\"| también presenta 27% de datos nulos|\n"
   ]
  },
  {
   "cell_type": "code",
   "execution_count": 65,
   "id": "21e5b763",
   "metadata": {},
   "outputs": [],
   "source": [
    "dfc = dfc.drop(columns = [\"course_rating\",\"course_id\",\"url\",\"cert_type\"])"
   ]
  },
  {
   "cell_type": "code",
   "execution_count": 66,
   "id": "c1e998c4",
   "metadata": {},
   "outputs": [],
   "source": [
    "#dfc"
   ]
  },
  {
   "cell_type": "code",
   "execution_count": 67,
   "id": "105eef5e",
   "metadata": {},
   "outputs": [
    {
     "data": {
      "text/plain": [
       "rating             3.044872\n",
       "first_review_on    3.044872\n",
       "name               0.000000\n",
       "institution        0.000000\n",
       "level              0.000000\n",
       "students           0.000000\n",
       "dtype: float64"
      ]
     },
     "execution_count": 67,
     "metadata": {},
     "output_type": "execute_result"
    }
   ],
   "source": [
    "get_nan_in_df(dfc)"
   ]
  },
  {
   "cell_type": "markdown",
   "id": "393c6d62",
   "metadata": {},
   "source": [
    "__Vamos a imputar valores en 'students'__"
   ]
  },
  {
   "cell_type": "markdown",
   "id": "7a2665ad",
   "metadata": {},
   "source": [
    "Para esto vamos a tomar valores basados en el nivel del curso"
   ]
  },
  {
   "cell_type": "code",
   "execution_count": 68,
   "id": "721ef203",
   "metadata": {},
   "outputs": [],
   "source": [
    "group = dfc.groupby('level')"
   ]
  },
  {
   "cell_type": "code",
   "execution_count": 69,
   "id": "e80102f5",
   "metadata": {},
   "outputs": [
    {
     "data": {
      "text/plain": [
       "level\n",
       "-                    0.000000\n",
       "beginner         77812.107623\n",
       "expert           45188.888889\n",
       "intermediate     75273.684211\n",
       "mixed           156086.206897\n",
       "Name: students, dtype: float64"
      ]
     },
     "execution_count": 69,
     "metadata": {},
     "output_type": "execute_result"
    }
   ],
   "source": [
    "group['students'].mean()"
   ]
  },
  {
   "cell_type": "code",
   "execution_count": 70,
   "id": "4866893e",
   "metadata": {},
   "outputs": [
    {
     "data": {
      "text/plain": [
       "beginner        223\n",
       "-               171\n",
       "mixed           145\n",
       "intermediate     76\n",
       "expert            9\n",
       "Name: level, dtype: int64"
      ]
     },
     "execution_count": 70,
     "metadata": {},
     "output_type": "execute_result"
    }
   ],
   "source": [
    "dfc.level.value_counts()"
   ]
  },
  {
   "cell_type": "markdown",
   "id": "8a135b3d",
   "metadata": {},
   "source": [
    "__eliminamos los registros con datos nulos__"
   ]
  },
  {
   "cell_type": "code",
   "execution_count": 71,
   "id": "6ece2591",
   "metadata": {},
   "outputs": [],
   "source": [
    "dfc = dfc[dfc.rating.isna() == False]"
   ]
  },
  {
   "cell_type": "code",
   "execution_count": null,
   "id": "89f5c9c1",
   "metadata": {},
   "outputs": [],
   "source": []
  },
  {
   "cell_type": "markdown",
   "id": "732a004d",
   "metadata": {},
   "source": [
    "#### Creamos una columna señale si la institución que imparte el MOOC es o no una universidad"
   ]
  },
  {
   "cell_type": "code",
   "execution_count": 72,
   "id": "43983435",
   "metadata": {},
   "outputs": [],
   "source": [
    "dfc.insert(2, 'is_university', dfc.institution)"
   ]
  },
  {
   "cell_type": "markdown",
   "id": "4d14efac",
   "metadata": {},
   "source": [
    "Identificamos las universidades"
   ]
  },
  {
   "cell_type": "code",
   "execution_count": 73,
   "id": "21d9acf9",
   "metadata": {},
   "outputs": [],
   "source": [
    "l_instituciones = dfc.institution.unique()"
   ]
  },
  {
   "cell_type": "code",
   "execution_count": 74,
   "id": "7aef2174",
   "metadata": {},
   "outputs": [],
   "source": [
    "inst = pd.DataFrame(l_instituciones)"
   ]
  },
  {
   "cell_type": "code",
   "execution_count": 75,
   "id": "af0393b0",
   "metadata": {},
   "outputs": [],
   "source": [
    "univ_pals = [ \"university\", \"school\",\" università\",\"institute\",\" universitat\", \"college\", \"école\", \"universidad\", \"hec paris\",\n",
    "             \"universidade\", \"sas\", \"sciences po\", \"(lmu)\", \"insead\", \"universität\", \"universidades\", \"college-imt\",\n",
    "             \"iitbombay\", \"université\", \"tecnológico de monterrey\", \"università\", \"eth zurich\", \"imt\"]"
   ]
  },
  {
   "cell_type": "code",
   "execution_count": 76,
   "id": "971618c6",
   "metadata": {},
   "outputs": [],
   "source": [
    "def is_an_university(string, lista_keywords):\n",
    "    numero = 0\n",
    "    for elemento in lista_keywords:\n",
    "        if string.find(elemento) != -1:\n",
    "            numero = 1\n",
    "            \n",
    "    return numero        "
   ]
  },
  {
   "cell_type": "code",
   "execution_count": 77,
   "id": "fd3c2399",
   "metadata": {},
   "outputs": [],
   "source": [
    "dfc = dfc.copy()"
   ]
  },
  {
   "cell_type": "code",
   "execution_count": 78,
   "id": "9a2a45e6",
   "metadata": {},
   "outputs": [],
   "source": [
    "dfc.is_university = dfc.is_university.apply(lambda x: is_an_university(x, univ_pals))"
   ]
  },
  {
   "cell_type": "markdown",
   "id": "3ae4c238",
   "metadata": {},
   "source": [
    "# Edx"
   ]
  },
  {
   "cell_type": "markdown",
   "id": "a68a0759",
   "metadata": {},
   "source": [
    "__dfe presenta varios campos con valores nan__"
   ]
  },
  {
   "cell_type": "code",
   "execution_count": 85,
   "id": "beb7d6a9",
   "metadata": {},
   "outputs": [
    {
     "data": {
      "text/plain": [
       "course_syllabus       57.230769\n",
       "n_enrolled            12.307692\n",
       "summary                5.435897\n",
       "course_description     4.102564\n",
       "instructors            0.307692\n",
       "subtitles              0.307692\n",
       "title                  0.000000\n",
       "course_type            0.000000\n",
       "institution            0.000000\n",
       "Level                  0.000000\n",
       "subject                0.000000\n",
       "language               0.000000\n",
       "course_effort          0.000000\n",
       "course_length          0.000000\n",
       "price                  0.000000\n",
       "course_url             0.000000\n",
       "dtype: float64"
      ]
     },
     "execution_count": 85,
     "metadata": {},
     "output_type": "execute_result"
    }
   ],
   "source": [
    "get_nan_in_df(dfe)"
   ]
  },
  {
   "cell_type": "markdown",
   "id": "976c6c7c",
   "metadata": {},
   "source": [
    "Vamos a eliminar las siguientes columnas:\n",
    "\n",
    "|Columna              |Razón                                              |\n",
    "|---------------------|---------------------------------------------------|\n",
    "|\"course_syllabus\"    |57% de los valores son nulos                       |\n",
    "|\"Summary\"            |Breve expicación de que trata el curso ya tenemos información similar condensada en otras columnas|\n",
    "|\"course_description\" |Es una ampliación de la columna anterior|\n",
    "|\"instructors\"        |No buscamos individualizar y analizar por instructores|\n",
    "|\"subtitles\"          |Vamos a enfocar nuestro análisis en variables más relevantes y con mayor volumen de datos |\n",
    "|\"language\"           |Similar, además el idioma en el que se impartan dependerá del público al que apunte la empresa|\n",
    "|\"course_url\"|        |Metadata que no vamos a usar en este dataframe|"
   ]
  },
  {
   "cell_type": "code",
   "execution_count": 86,
   "id": "f95e3e01",
   "metadata": {},
   "outputs": [],
   "source": [
    "dfe.drop(columns =['course_syllabus','summary', 'course_description',\n",
    "                   'instructors', 'subtitles', 'language',\"course_url\"], inplace = True)"
   ]
  },
  {
   "cell_type": "markdown",
   "id": "2a8249a9",
   "metadata": {},
   "source": [
    "__Debido a la limitación de tiempo, vamos a eliminar los registros nulos, que representan el 12 % del total__"
   ]
  },
  {
   "cell_type": "code",
   "execution_count": 87,
   "id": "b0ee9ac4",
   "metadata": {},
   "outputs": [],
   "source": [
    "dfe = dfe[dfe.n_enrolled.isna() == False]"
   ]
  },
  {
   "cell_type": "markdown",
   "id": "cf1949d9",
   "metadata": {},
   "source": [
    "### Data Cleaning"
   ]
  },
  {
   "cell_type": "code",
   "execution_count": 88,
   "id": "fb1a5582",
   "metadata": {},
   "outputs": [],
   "source": [
    "dfe = dfe.copy()"
   ]
  },
  {
   "cell_type": "code",
   "execution_count": 89,
   "id": "3b0e0fc7",
   "metadata": {},
   "outputs": [],
   "source": [
    "#normalizamos las columnas de tipo string\n",
    "normalize_df_text_columns(dfe, 'lower')"
   ]
  },
  {
   "cell_type": "markdown",
   "id": "68bc6e4c",
   "metadata": {},
   "source": [
    "__Limpiemos la columna precio, para aislar el valor de los cursos.__"
   ]
  },
  {
   "cell_type": "code",
   "execution_count": 90,
   "id": "917e5721",
   "metadata": {},
   "outputs": [],
   "source": [
    "# Todos los valores parecen tener el mismo patron, así que reemplazomos lo que está antes y después de los números\n",
    "dfe.price = dfe.price.apply(lambda x: x.replace('free-add a verified certificate for $','').replace('usd',''))"
   ]
  },
  {
   "cell_type": "code",
   "execution_count": 91,
   "id": "9e8d0664",
   "metadata": {},
   "outputs": [],
   "source": [
    "# algunos valores quedaron con decimales, vamos a convertir a tipo de dato float y luego a integer\n",
    "dfe.price = dfe.price.astype(float)\n",
    "dfe.price = round(dfe.price)\n",
    "dfe.price = pd.Series(dfe.price, dtype=pd.Int16Dtype())"
   ]
  },
  {
   "cell_type": "code",
   "execution_count": 92,
   "id": "4df7ba3a",
   "metadata": {},
   "outputs": [
    {
     "name": "stdout",
     "output_type": "stream",
     "text": [
      "<class 'pandas.core.frame.DataFrame'>\n",
      "Int64Index: 855 entries, 0 to 973\n",
      "Data columns (total 9 columns):\n",
      " #   Column         Non-Null Count  Dtype \n",
      "---  ------         --------------  ----- \n",
      " 0   title          855 non-null    object\n",
      " 1   n_enrolled     855 non-null    object\n",
      " 2   course_type    855 non-null    object\n",
      " 3   institution    855 non-null    object\n",
      " 4   Level          855 non-null    object\n",
      " 5   subject        855 non-null    object\n",
      " 6   course_effort  855 non-null    object\n",
      " 7   course_length  855 non-null    object\n",
      " 8   price          855 non-null    Int16 \n",
      "dtypes: Int16(1), object(8)\n",
      "memory usage: 62.6+ KB\n"
     ]
    }
   ],
   "source": [
    "dfe.info()"
   ]
  },
  {
   "cell_type": "markdown",
   "id": "3b209b0f",
   "metadata": {},
   "source": [
    "__Queremos crear una columna que contega los valores del tiempo invertido estimado para cada curso__"
   ]
  },
  {
   "cell_type": "code",
   "execution_count": 93,
   "id": "41119416",
   "metadata": {},
   "outputs": [
    {
     "data": {
      "text/html": [
       "<div>\n",
       "<style scoped>\n",
       "    .dataframe tbody tr th:only-of-type {\n",
       "        vertical-align: middle;\n",
       "    }\n",
       "\n",
       "    .dataframe tbody tr th {\n",
       "        vertical-align: top;\n",
       "    }\n",
       "\n",
       "    .dataframe thead th {\n",
       "        text-align: right;\n",
       "    }\n",
       "</style>\n",
       "<table border=\"1\" class=\"dataframe\">\n",
       "  <thead>\n",
       "    <tr style=\"text-align: right;\">\n",
       "      <th></th>\n",
       "      <th>title</th>\n",
       "      <th>n_enrolled</th>\n",
       "      <th>course_type</th>\n",
       "      <th>institution</th>\n",
       "      <th>Level</th>\n",
       "      <th>subject</th>\n",
       "      <th>course_effort</th>\n",
       "      <th>course_length</th>\n",
       "      <th>price</th>\n",
       "    </tr>\n",
       "  </thead>\n",
       "  <tbody>\n",
       "    <tr>\n",
       "      <th>0</th>\n",
       "      <td>how to learn online</td>\n",
       "      <td>124,980</td>\n",
       "      <td>self-paced on your time</td>\n",
       "      <td>edx</td>\n",
       "      <td>introductory</td>\n",
       "      <td>education &amp; teacher training</td>\n",
       "      <td>2–3 hours per week</td>\n",
       "      <td>2 weeks</td>\n",
       "      <td>49</td>\n",
       "    </tr>\n",
       "    <tr>\n",
       "      <th>1</th>\n",
       "      <td>programming for everybody (getting started wit...</td>\n",
       "      <td>293,864</td>\n",
       "      <td>self-paced on your time</td>\n",
       "      <td>the university of michigan</td>\n",
       "      <td>introductory</td>\n",
       "      <td>computer science</td>\n",
       "      <td>2–4 hours per week</td>\n",
       "      <td>7 weeks</td>\n",
       "      <td>49</td>\n",
       "    </tr>\n",
       "    <tr>\n",
       "      <th>2</th>\n",
       "      <td>cs50's introduction to computer science</td>\n",
       "      <td>2,442,271</td>\n",
       "      <td>self-paced on your time</td>\n",
       "      <td>harvard university</td>\n",
       "      <td>introductory</td>\n",
       "      <td>computer science</td>\n",
       "      <td>6–18 hours per week</td>\n",
       "      <td>12 weeks</td>\n",
       "      <td>90</td>\n",
       "    </tr>\n",
       "    <tr>\n",
       "      <th>3</th>\n",
       "      <td>the analytics edge</td>\n",
       "      <td>129,555</td>\n",
       "      <td>instructor-led on a course schedule</td>\n",
       "      <td>massachusetts institute of technology</td>\n",
       "      <td>intermediate</td>\n",
       "      <td>data analysis &amp; statistics</td>\n",
       "      <td>10–15 hours per week</td>\n",
       "      <td>13 weeks</td>\n",
       "      <td>199</td>\n",
       "    </tr>\n",
       "    <tr>\n",
       "      <th>4</th>\n",
       "      <td>marketing analytics: marketing measurement str...</td>\n",
       "      <td>81,140</td>\n",
       "      <td>self-paced on your time</td>\n",
       "      <td>university of california, berkeley</td>\n",
       "      <td>introductory</td>\n",
       "      <td>computer science</td>\n",
       "      <td>5–7 hours per week</td>\n",
       "      <td>4 weeks</td>\n",
       "      <td>249</td>\n",
       "    </tr>\n",
       "  </tbody>\n",
       "</table>\n",
       "</div>"
      ],
      "text/plain": [
       "                                               title n_enrolled  \\\n",
       "0                                how to learn online    124,980   \n",
       "1  programming for everybody (getting started wit...    293,864   \n",
       "2            cs50's introduction to computer science  2,442,271   \n",
       "3                                 the analytics edge    129,555   \n",
       "4  marketing analytics: marketing measurement str...     81,140   \n",
       "\n",
       "                           course_type                            institution  \\\n",
       "0              self-paced on your time                                    edx   \n",
       "1              self-paced on your time             the university of michigan   \n",
       "2              self-paced on your time                     harvard university   \n",
       "3  instructor-led on a course schedule  massachusetts institute of technology   \n",
       "4              self-paced on your time     university of california, berkeley   \n",
       "\n",
       "          Level                       subject         course_effort  \\\n",
       "0  introductory  education & teacher training    2–3 hours per week   \n",
       "1  introductory              computer science    2–4 hours per week   \n",
       "2  introductory              computer science   6–18 hours per week   \n",
       "3  intermediate    data analysis & statistics  10–15 hours per week   \n",
       "4  introductory              computer science    5–7 hours per week   \n",
       "\n",
       "  course_length  price  \n",
       "0       2 weeks     49  \n",
       "1       7 weeks     49  \n",
       "2      12 weeks     90  \n",
       "3      13 weeks    199  \n",
       "4       4 weeks    249  "
      ]
     },
     "execution_count": 93,
     "metadata": {},
     "output_type": "execute_result"
    }
   ],
   "source": [
    "dfe.head()"
   ]
  },
  {
   "cell_type": "code",
   "execution_count": 94,
   "id": "c9b02180",
   "metadata": {},
   "outputs": [],
   "source": [
    "dfe.insert(8,'auxiliar','')"
   ]
  },
  {
   "cell_type": "code",
   "execution_count": 95,
   "id": "1e24290b",
   "metadata": {},
   "outputs": [],
   "source": [
    "# renombremos las columnas para no perder de vista la unidad de medida\n",
    "dfe.rename(columns = {'course_effort':'hours_per_week' , 'course_length': 'weeks'}, inplace =True)"
   ]
  },
  {
   "cell_type": "code",
   "execution_count": 96,
   "id": "50b686a5",
   "metadata": {},
   "outputs": [],
   "source": [
    "#dfe.course_effort.value_counts()"
   ]
  },
  {
   "cell_type": "markdown",
   "id": "c8c75e30",
   "metadata": {},
   "source": [
    "__obtenemos los valores numéricos__"
   ]
  },
  {
   "cell_type": "code",
   "execution_count": 97,
   "id": "422b5163",
   "metadata": {},
   "outputs": [],
   "source": [
    "dfe.hours_per_week = dfe.hours_per_week.apply(lambda x: x.replace(' hours per week',''))"
   ]
  },
  {
   "cell_type": "code",
   "execution_count": 98,
   "id": "5ba7b77f",
   "metadata": {},
   "outputs": [],
   "source": [
    "# la columna auxiliar lleva el máximo estimado de estudio por semana\n",
    "dfe.auxiliar = dfe.hours_per_week.apply(lambda x: x.split('–')[1])"
   ]
  },
  {
   "cell_type": "code",
   "execution_count": 99,
   "id": "91566865",
   "metadata": {},
   "outputs": [],
   "source": [
    "# la columna 'hours_per_week' se queda con el valor mínimo\n",
    "dfe.hours_per_week = dfe.hours_per_week.apply(lambda x: x.split('–')[0])"
   ]
  },
  {
   "cell_type": "markdown",
   "id": "ccafd5b0",
   "metadata": {},
   "source": [
    "__Ahora solo queda convertir a float y sacar el promedio__"
   ]
  },
  {
   "cell_type": "code",
   "execution_count": 100,
   "id": "74c1cd45",
   "metadata": {},
   "outputs": [],
   "source": [
    "dfe.hours_per_week = dfe.hours_per_week.astype(float)\n",
    "dfe.auxiliar = dfe.auxiliar.astype(float)"
   ]
  },
  {
   "cell_type": "code",
   "execution_count": 101,
   "id": "9a7d401a",
   "metadata": {},
   "outputs": [],
   "source": [
    "dfe.hours_per_week = (dfe.hours_per_week + dfe.auxiliar)/2"
   ]
  },
  {
   "cell_type": "markdown",
   "id": "4356a191",
   "metadata": {},
   "source": [
    "__podemos retirar la columna auxiliar__"
   ]
  },
  {
   "cell_type": "code",
   "execution_count": 102,
   "id": "eb1377ac",
   "metadata": {},
   "outputs": [],
   "source": [
    "dfe.drop(columns= 'auxiliar', inplace = True)"
   ]
  },
  {
   "cell_type": "markdown",
   "id": "15765085",
   "metadata": {},
   "source": [
    "__limpiamos los datos en 'weeks' y convertimos el tipo de dato__"
   ]
  },
  {
   "cell_type": "code",
   "execution_count": 103,
   "id": "c1dbb123",
   "metadata": {},
   "outputs": [],
   "source": [
    "dfe.weeks= dfe.weeks.apply(lambda x: x.replace('weeks', ''))\n",
    "dfe.weeks = dfe.weeks.astype(float)"
   ]
  },
  {
   "cell_type": "markdown",
   "id": "e06fbcc9",
   "metadata": {},
   "source": [
    "__finalmente podemos hacer la nueva columna__"
   ]
  },
  {
   "cell_type": "code",
   "execution_count": 104,
   "id": "ef0144cb",
   "metadata": {},
   "outputs": [],
   "source": [
    "dfe.insert(8,'total_effort', dfe.hours_per_week * dfe.weeks)"
   ]
  },
  {
   "cell_type": "code",
   "execution_count": 105,
   "id": "f42b1508",
   "metadata": {},
   "outputs": [
    {
     "data": {
      "text/html": [
       "<div>\n",
       "<style scoped>\n",
       "    .dataframe tbody tr th:only-of-type {\n",
       "        vertical-align: middle;\n",
       "    }\n",
       "\n",
       "    .dataframe tbody tr th {\n",
       "        vertical-align: top;\n",
       "    }\n",
       "\n",
       "    .dataframe thead th {\n",
       "        text-align: right;\n",
       "    }\n",
       "</style>\n",
       "<table border=\"1\" class=\"dataframe\">\n",
       "  <thead>\n",
       "    <tr style=\"text-align: right;\">\n",
       "      <th></th>\n",
       "      <th>title</th>\n",
       "      <th>n_enrolled</th>\n",
       "      <th>course_type</th>\n",
       "      <th>institution</th>\n",
       "      <th>Level</th>\n",
       "      <th>subject</th>\n",
       "      <th>hours_per_week</th>\n",
       "      <th>weeks</th>\n",
       "      <th>total_effort</th>\n",
       "      <th>price</th>\n",
       "    </tr>\n",
       "  </thead>\n",
       "  <tbody>\n",
       "    <tr>\n",
       "      <th>0</th>\n",
       "      <td>how to learn online</td>\n",
       "      <td>124,980</td>\n",
       "      <td>self-paced on your time</td>\n",
       "      <td>edx</td>\n",
       "      <td>introductory</td>\n",
       "      <td>education &amp; teacher training</td>\n",
       "      <td>2.5</td>\n",
       "      <td>2.0</td>\n",
       "      <td>5.0</td>\n",
       "      <td>49</td>\n",
       "    </tr>\n",
       "    <tr>\n",
       "      <th>1</th>\n",
       "      <td>programming for everybody (getting started wit...</td>\n",
       "      <td>293,864</td>\n",
       "      <td>self-paced on your time</td>\n",
       "      <td>the university of michigan</td>\n",
       "      <td>introductory</td>\n",
       "      <td>computer science</td>\n",
       "      <td>3.0</td>\n",
       "      <td>7.0</td>\n",
       "      <td>21.0</td>\n",
       "      <td>49</td>\n",
       "    </tr>\n",
       "    <tr>\n",
       "      <th>2</th>\n",
       "      <td>cs50's introduction to computer science</td>\n",
       "      <td>2,442,271</td>\n",
       "      <td>self-paced on your time</td>\n",
       "      <td>harvard university</td>\n",
       "      <td>introductory</td>\n",
       "      <td>computer science</td>\n",
       "      <td>12.0</td>\n",
       "      <td>12.0</td>\n",
       "      <td>144.0</td>\n",
       "      <td>90</td>\n",
       "    </tr>\n",
       "    <tr>\n",
       "      <th>3</th>\n",
       "      <td>the analytics edge</td>\n",
       "      <td>129,555</td>\n",
       "      <td>instructor-led on a course schedule</td>\n",
       "      <td>massachusetts institute of technology</td>\n",
       "      <td>intermediate</td>\n",
       "      <td>data analysis &amp; statistics</td>\n",
       "      <td>12.5</td>\n",
       "      <td>13.0</td>\n",
       "      <td>162.5</td>\n",
       "      <td>199</td>\n",
       "    </tr>\n",
       "    <tr>\n",
       "      <th>4</th>\n",
       "      <td>marketing analytics: marketing measurement str...</td>\n",
       "      <td>81,140</td>\n",
       "      <td>self-paced on your time</td>\n",
       "      <td>university of california, berkeley</td>\n",
       "      <td>introductory</td>\n",
       "      <td>computer science</td>\n",
       "      <td>6.0</td>\n",
       "      <td>4.0</td>\n",
       "      <td>24.0</td>\n",
       "      <td>249</td>\n",
       "    </tr>\n",
       "  </tbody>\n",
       "</table>\n",
       "</div>"
      ],
      "text/plain": [
       "                                               title n_enrolled  \\\n",
       "0                                how to learn online    124,980   \n",
       "1  programming for everybody (getting started wit...    293,864   \n",
       "2            cs50's introduction to computer science  2,442,271   \n",
       "3                                 the analytics edge    129,555   \n",
       "4  marketing analytics: marketing measurement str...     81,140   \n",
       "\n",
       "                           course_type                            institution  \\\n",
       "0              self-paced on your time                                    edx   \n",
       "1              self-paced on your time             the university of michigan   \n",
       "2              self-paced on your time                     harvard university   \n",
       "3  instructor-led on a course schedule  massachusetts institute of technology   \n",
       "4              self-paced on your time     university of california, berkeley   \n",
       "\n",
       "          Level                       subject  hours_per_week  weeks  \\\n",
       "0  introductory  education & teacher training             2.5    2.0   \n",
       "1  introductory              computer science             3.0    7.0   \n",
       "2  introductory              computer science            12.0   12.0   \n",
       "3  intermediate    data analysis & statistics            12.5   13.0   \n",
       "4  introductory              computer science             6.0    4.0   \n",
       "\n",
       "   total_effort  price  \n",
       "0           5.0     49  \n",
       "1          21.0     49  \n",
       "2         144.0     90  \n",
       "3         162.5    199  \n",
       "4          24.0    249  "
      ]
     },
     "execution_count": 105,
     "metadata": {},
     "output_type": "execute_result"
    }
   ],
   "source": [
    "dfe.head()"
   ]
  },
  {
   "cell_type": "markdown",
   "id": "24de0d00",
   "metadata": {},
   "source": [
    "__Normalicemos la columna 'Level' para igularla con los valores de Udemy__"
   ]
  },
  {
   "cell_type": "code",
   "execution_count": 106,
   "id": "0080a005",
   "metadata": {},
   "outputs": [],
   "source": [
    "dfe.Level= dfe.Level.apply(lambda x: x.replace('introductory', 'beginner').replace('advanced','expert'))"
   ]
  },
  {
   "cell_type": "code",
   "execution_count": 107,
   "id": "0ed62c54",
   "metadata": {},
   "outputs": [],
   "source": [
    "dfe.rename(columns = {'Level': 'level','title':'name','n_enrolled':'students'}, inplace= True ) "
   ]
  },
  {
   "cell_type": "code",
   "execution_count": null,
   "id": "e5a23038",
   "metadata": {},
   "outputs": [],
   "source": []
  },
  {
   "cell_type": "markdown",
   "id": "1435b997",
   "metadata": {},
   "source": [
    "#### Creamos una columna señale si la institución que imparte el MOOC es o no una universidad"
   ]
  },
  {
   "cell_type": "code",
   "execution_count": 108,
   "id": "9bd86e8f",
   "metadata": {},
   "outputs": [],
   "source": [
    "dfe.insert(4, 'is_university', dfe.institution)"
   ]
  },
  {
   "cell_type": "code",
   "execution_count": 109,
   "id": "e654156c",
   "metadata": {},
   "outputs": [],
   "source": [
    "dfe.is_university = dfe.is_university.apply(lambda x: is_an_university(x, univ_pals))"
   ]
  },
  {
   "cell_type": "code",
   "execution_count": 110,
   "id": "b37055ca",
   "metadata": {},
   "outputs": [
    {
     "data": {
      "text/html": [
       "<div>\n",
       "<style scoped>\n",
       "    .dataframe tbody tr th:only-of-type {\n",
       "        vertical-align: middle;\n",
       "    }\n",
       "\n",
       "    .dataframe tbody tr th {\n",
       "        vertical-align: top;\n",
       "    }\n",
       "\n",
       "    .dataframe thead th {\n",
       "        text-align: right;\n",
       "    }\n",
       "</style>\n",
       "<table border=\"1\" class=\"dataframe\">\n",
       "  <thead>\n",
       "    <tr style=\"text-align: right;\">\n",
       "      <th></th>\n",
       "      <th>name</th>\n",
       "      <th>students</th>\n",
       "      <th>course_type</th>\n",
       "      <th>institution</th>\n",
       "      <th>is_university</th>\n",
       "      <th>level</th>\n",
       "      <th>subject</th>\n",
       "      <th>hours_per_week</th>\n",
       "      <th>weeks</th>\n",
       "      <th>total_effort</th>\n",
       "      <th>price</th>\n",
       "    </tr>\n",
       "  </thead>\n",
       "  <tbody>\n",
       "    <tr>\n",
       "      <th>0</th>\n",
       "      <td>how to learn online</td>\n",
       "      <td>124,980</td>\n",
       "      <td>self-paced on your time</td>\n",
       "      <td>edx</td>\n",
       "      <td>0</td>\n",
       "      <td>beginner</td>\n",
       "      <td>education &amp; teacher training</td>\n",
       "      <td>2.5</td>\n",
       "      <td>2.0</td>\n",
       "      <td>5.0</td>\n",
       "      <td>49</td>\n",
       "    </tr>\n",
       "    <tr>\n",
       "      <th>1</th>\n",
       "      <td>programming for everybody (getting started wit...</td>\n",
       "      <td>293,864</td>\n",
       "      <td>self-paced on your time</td>\n",
       "      <td>the university of michigan</td>\n",
       "      <td>1</td>\n",
       "      <td>beginner</td>\n",
       "      <td>computer science</td>\n",
       "      <td>3.0</td>\n",
       "      <td>7.0</td>\n",
       "      <td>21.0</td>\n",
       "      <td>49</td>\n",
       "    </tr>\n",
       "    <tr>\n",
       "      <th>2</th>\n",
       "      <td>cs50's introduction to computer science</td>\n",
       "      <td>2,442,271</td>\n",
       "      <td>self-paced on your time</td>\n",
       "      <td>harvard university</td>\n",
       "      <td>1</td>\n",
       "      <td>beginner</td>\n",
       "      <td>computer science</td>\n",
       "      <td>12.0</td>\n",
       "      <td>12.0</td>\n",
       "      <td>144.0</td>\n",
       "      <td>90</td>\n",
       "    </tr>\n",
       "    <tr>\n",
       "      <th>3</th>\n",
       "      <td>the analytics edge</td>\n",
       "      <td>129,555</td>\n",
       "      <td>instructor-led on a course schedule</td>\n",
       "      <td>massachusetts institute of technology</td>\n",
       "      <td>1</td>\n",
       "      <td>intermediate</td>\n",
       "      <td>data analysis &amp; statistics</td>\n",
       "      <td>12.5</td>\n",
       "      <td>13.0</td>\n",
       "      <td>162.5</td>\n",
       "      <td>199</td>\n",
       "    </tr>\n",
       "    <tr>\n",
       "      <th>4</th>\n",
       "      <td>marketing analytics: marketing measurement str...</td>\n",
       "      <td>81,140</td>\n",
       "      <td>self-paced on your time</td>\n",
       "      <td>university of california, berkeley</td>\n",
       "      <td>1</td>\n",
       "      <td>beginner</td>\n",
       "      <td>computer science</td>\n",
       "      <td>6.0</td>\n",
       "      <td>4.0</td>\n",
       "      <td>24.0</td>\n",
       "      <td>249</td>\n",
       "    </tr>\n",
       "    <tr>\n",
       "      <th>5</th>\n",
       "      <td>introduction to project management</td>\n",
       "      <td>301,793</td>\n",
       "      <td>self-paced on your time</td>\n",
       "      <td>university of adelaide</td>\n",
       "      <td>1</td>\n",
       "      <td>beginner</td>\n",
       "      <td>business &amp; management</td>\n",
       "      <td>2.5</td>\n",
       "      <td>6.0</td>\n",
       "      <td>15.0</td>\n",
       "      <td>199</td>\n",
       "    </tr>\n",
       "    <tr>\n",
       "      <th>6</th>\n",
       "      <td>leading high-performing teams</td>\n",
       "      <td>32,847</td>\n",
       "      <td>self-paced on your time</td>\n",
       "      <td>the university of queensland</td>\n",
       "      <td>1</td>\n",
       "      <td>intermediate</td>\n",
       "      <td>communication</td>\n",
       "      <td>9.0</td>\n",
       "      <td>10.0</td>\n",
       "      <td>90.0</td>\n",
       "      <td>5</td>\n",
       "    </tr>\n",
       "    <tr>\n",
       "      <th>7</th>\n",
       "      <td>the foundations of happiness at work</td>\n",
       "      <td>67,073</td>\n",
       "      <td>self-paced on your time</td>\n",
       "      <td>university of california, berkeley</td>\n",
       "      <td>1</td>\n",
       "      <td>beginner</td>\n",
       "      <td>business &amp; management</td>\n",
       "      <td>2.5</td>\n",
       "      <td>4.0</td>\n",
       "      <td>10.0</td>\n",
       "      <td>199</td>\n",
       "    </tr>\n",
       "    <tr>\n",
       "      <th>8</th>\n",
       "      <td>managing study, stress and mental health at un...</td>\n",
       "      <td>23,061</td>\n",
       "      <td>self-paced on your time</td>\n",
       "      <td>curtin university</td>\n",
       "      <td>1</td>\n",
       "      <td>beginner</td>\n",
       "      <td>health &amp; safety</td>\n",
       "      <td>2.0</td>\n",
       "      <td>2.0</td>\n",
       "      <td>4.0</td>\n",
       "      <td>49</td>\n",
       "    </tr>\n",
       "    <tr>\n",
       "      <th>9</th>\n",
       "      <td>six sigma: define and measure</td>\n",
       "      <td>92,411</td>\n",
       "      <td>self-paced on your time</td>\n",
       "      <td>technische universität münchen</td>\n",
       "      <td>1</td>\n",
       "      <td>beginner</td>\n",
       "      <td>business &amp; management</td>\n",
       "      <td>3.5</td>\n",
       "      <td>8.0</td>\n",
       "      <td>28.0</td>\n",
       "      <td>99</td>\n",
       "    </tr>\n",
       "    <tr>\n",
       "      <th>10</th>\n",
       "      <td>fat chance: probability from the ground up</td>\n",
       "      <td>66,835</td>\n",
       "      <td>self-paced on your time</td>\n",
       "      <td>harvard university</td>\n",
       "      <td>1</td>\n",
       "      <td>beginner</td>\n",
       "      <td>math</td>\n",
       "      <td>4.0</td>\n",
       "      <td>7.0</td>\n",
       "      <td>28.0</td>\n",
       "      <td>49</td>\n",
       "    </tr>\n",
       "    <tr>\n",
       "      <th>11</th>\n",
       "      <td>chasing your dream: how to end procrastination...</td>\n",
       "      <td>44,711</td>\n",
       "      <td>self-paced on your time</td>\n",
       "      <td>national research nuclear university</td>\n",
       "      <td>1</td>\n",
       "      <td>beginner</td>\n",
       "      <td>communication</td>\n",
       "      <td>4.0</td>\n",
       "      <td>5.0</td>\n",
       "      <td>20.0</td>\n",
       "      <td>49</td>\n",
       "    </tr>\n",
       "    <tr>\n",
       "      <th>12</th>\n",
       "      <td>bitcoin and cryptocurrencies</td>\n",
       "      <td>83,398</td>\n",
       "      <td>self-paced on your time</td>\n",
       "      <td>university of california, berkeley</td>\n",
       "      <td>1</td>\n",
       "      <td>beginner</td>\n",
       "      <td>computer science</td>\n",
       "      <td>4.0</td>\n",
       "      <td>6.0</td>\n",
       "      <td>24.0</td>\n",
       "      <td>99</td>\n",
       "    </tr>\n",
       "    <tr>\n",
       "      <th>14</th>\n",
       "      <td>ethics in action</td>\n",
       "      <td>6,366</td>\n",
       "      <td>self-paced on your time</td>\n",
       "      <td>sdg academy</td>\n",
       "      <td>0</td>\n",
       "      <td>intermediate</td>\n",
       "      <td>ethics</td>\n",
       "      <td>3.0</td>\n",
       "      <td>10.0</td>\n",
       "      <td>30.0</td>\n",
       "      <td>49</td>\n",
       "    </tr>\n",
       "    <tr>\n",
       "      <th>15</th>\n",
       "      <td>introduction to fintech</td>\n",
       "      <td>72,767</td>\n",
       "      <td>self-paced on your time</td>\n",
       "      <td>university of hong kong</td>\n",
       "      <td>1</td>\n",
       "      <td>beginner</td>\n",
       "      <td>economics &amp; finance</td>\n",
       "      <td>2.0</td>\n",
       "      <td>6.0</td>\n",
       "      <td>12.0</td>\n",
       "      <td>199</td>\n",
       "    </tr>\n",
       "    <tr>\n",
       "      <th>16</th>\n",
       "      <td>data science: r basics</td>\n",
       "      <td>528,782</td>\n",
       "      <td>self-paced on your time</td>\n",
       "      <td>harvard university</td>\n",
       "      <td>1</td>\n",
       "      <td>beginner</td>\n",
       "      <td>data analysis &amp; statistics</td>\n",
       "      <td>1.5</td>\n",
       "      <td>8.0</td>\n",
       "      <td>12.0</td>\n",
       "      <td>49</td>\n",
       "    </tr>\n",
       "    <tr>\n",
       "      <th>17</th>\n",
       "      <td>python basics for data science</td>\n",
       "      <td>228,809</td>\n",
       "      <td>self-paced on your time</td>\n",
       "      <td>ibm</td>\n",
       "      <td>0</td>\n",
       "      <td>beginner</td>\n",
       "      <td>data analysis &amp; statistics</td>\n",
       "      <td>3.5</td>\n",
       "      <td>5.0</td>\n",
       "      <td>17.5</td>\n",
       "      <td>39</td>\n",
       "    </tr>\n",
       "    <tr>\n",
       "      <th>18</th>\n",
       "      <td>the science of beer</td>\n",
       "      <td>39,085</td>\n",
       "      <td>self-paced on your time</td>\n",
       "      <td>wageningen university &amp; research</td>\n",
       "      <td>1</td>\n",
       "      <td>beginner</td>\n",
       "      <td>food &amp; nutrition</td>\n",
       "      <td>3.0</td>\n",
       "      <td>6.0</td>\n",
       "      <td>18.0</td>\n",
       "      <td>49</td>\n",
       "    </tr>\n",
       "    <tr>\n",
       "      <th>19</th>\n",
       "      <td>strategic social media marketing</td>\n",
       "      <td>103,640</td>\n",
       "      <td>instructor-led on a course schedule</td>\n",
       "      <td>boston university</td>\n",
       "      <td>1</td>\n",
       "      <td>expert</td>\n",
       "      <td>business &amp; management</td>\n",
       "      <td>5.0</td>\n",
       "      <td>6.0</td>\n",
       "      <td>30.0</td>\n",
       "      <td>399</td>\n",
       "    </tr>\n",
       "    <tr>\n",
       "      <th>20</th>\n",
       "      <td>cs50's introduction to artificial intelligence...</td>\n",
       "      <td>258,006</td>\n",
       "      <td>self-paced on your time</td>\n",
       "      <td>harvard university</td>\n",
       "      <td>1</td>\n",
       "      <td>beginner</td>\n",
       "      <td>computer science</td>\n",
       "      <td>20.0</td>\n",
       "      <td>7.0</td>\n",
       "      <td>140.0</td>\n",
       "      <td>199</td>\n",
       "    </tr>\n",
       "    <tr>\n",
       "      <th>21</th>\n",
       "      <td>cs50's introduction to game development</td>\n",
       "      <td>346,748</td>\n",
       "      <td>self-paced on your time</td>\n",
       "      <td>harvard university</td>\n",
       "      <td>1</td>\n",
       "      <td>intermediate</td>\n",
       "      <td>computer science</td>\n",
       "      <td>7.5</td>\n",
       "      <td>12.0</td>\n",
       "      <td>90.0</td>\n",
       "      <td>149</td>\n",
       "    </tr>\n",
       "    <tr>\n",
       "      <th>22</th>\n",
       "      <td>rhetoric: the art of persuasive writing and pu...</td>\n",
       "      <td>320,225</td>\n",
       "      <td>self-paced on your time</td>\n",
       "      <td>harvard university</td>\n",
       "      <td>1</td>\n",
       "      <td>beginner</td>\n",
       "      <td>humanities</td>\n",
       "      <td>2.5</td>\n",
       "      <td>8.0</td>\n",
       "      <td>20.0</td>\n",
       "      <td>99</td>\n",
       "    </tr>\n",
       "    <tr>\n",
       "      <th>23</th>\n",
       "      <td>cs50's web programming with python and javascript</td>\n",
       "      <td>698,950</td>\n",
       "      <td>self-paced on your time</td>\n",
       "      <td>harvard university</td>\n",
       "      <td>1</td>\n",
       "      <td>intermediate</td>\n",
       "      <td>computer science</td>\n",
       "      <td>7.5</td>\n",
       "      <td>12.0</td>\n",
       "      <td>90.0</td>\n",
       "      <td>90</td>\n",
       "    </tr>\n",
       "    <tr>\n",
       "      <th>24</th>\n",
       "      <td>contract law: from trust to promise to contract</td>\n",
       "      <td>414,181</td>\n",
       "      <td>self-paced on your time</td>\n",
       "      <td>harvard university</td>\n",
       "      <td>1</td>\n",
       "      <td>intermediate</td>\n",
       "      <td>business &amp; management</td>\n",
       "      <td>4.5</td>\n",
       "      <td>8.0</td>\n",
       "      <td>36.0</td>\n",
       "      <td>125</td>\n",
       "    </tr>\n",
       "    <tr>\n",
       "      <th>25</th>\n",
       "      <td>fundamentals of neuroscience, part 1: the elec...</td>\n",
       "      <td>380,167</td>\n",
       "      <td>self-paced on your time</td>\n",
       "      <td>harvard university</td>\n",
       "      <td>1</td>\n",
       "      <td>beginner</td>\n",
       "      <td>biology &amp; life sciences</td>\n",
       "      <td>4.0</td>\n",
       "      <td>5.0</td>\n",
       "      <td>20.0</td>\n",
       "      <td>99</td>\n",
       "    </tr>\n",
       "    <tr>\n",
       "      <th>26</th>\n",
       "      <td>justice</td>\n",
       "      <td>392,588</td>\n",
       "      <td>self-paced on your time</td>\n",
       "      <td>harvard university</td>\n",
       "      <td>1</td>\n",
       "      <td>beginner</td>\n",
       "      <td>humanities</td>\n",
       "      <td>4.5</td>\n",
       "      <td>12.0</td>\n",
       "      <td>54.0</td>\n",
       "      <td>99</td>\n",
       "    </tr>\n",
       "    <tr>\n",
       "      <th>27</th>\n",
       "      <td>data science: machine learning</td>\n",
       "      <td>276,209</td>\n",
       "      <td>self-paced on your time</td>\n",
       "      <td>harvard university</td>\n",
       "      <td>1</td>\n",
       "      <td>beginner</td>\n",
       "      <td>data analysis &amp; statistics</td>\n",
       "      <td>3.0</td>\n",
       "      <td>8.0</td>\n",
       "      <td>24.0</td>\n",
       "      <td>49</td>\n",
       "    </tr>\n",
       "    <tr>\n",
       "      <th>28</th>\n",
       "      <td>child protection: children's rights in theory ...</td>\n",
       "      <td>212,453</td>\n",
       "      <td>self-paced on your time</td>\n",
       "      <td>harvard university</td>\n",
       "      <td>1</td>\n",
       "      <td>beginner</td>\n",
       "      <td>social sciences</td>\n",
       "      <td>4.0</td>\n",
       "      <td>16.0</td>\n",
       "      <td>64.0</td>\n",
       "      <td>99</td>\n",
       "    </tr>\n",
       "    <tr>\n",
       "      <th>29</th>\n",
       "      <td>ielts academic test preparation</td>\n",
       "      <td>1,103,777</td>\n",
       "      <td>self-paced on your time</td>\n",
       "      <td>the university of queensland</td>\n",
       "      <td>1</td>\n",
       "      <td>beginner</td>\n",
       "      <td>communication</td>\n",
       "      <td>7.5</td>\n",
       "      <td>8.0</td>\n",
       "      <td>60.0</td>\n",
       "      <td>99</td>\n",
       "    </tr>\n",
       "    <tr>\n",
       "      <th>30</th>\n",
       "      <td>the architectural imagination</td>\n",
       "      <td>406,181</td>\n",
       "      <td>self-paced on your time</td>\n",
       "      <td>harvard university</td>\n",
       "      <td>1</td>\n",
       "      <td>beginner</td>\n",
       "      <td>architecture</td>\n",
       "      <td>4.0</td>\n",
       "      <td>10.0</td>\n",
       "      <td>40.0</td>\n",
       "      <td>99</td>\n",
       "    </tr>\n",
       "    <tr>\n",
       "      <th>31</th>\n",
       "      <td>toefl® test preparation: the insider’s guide</td>\n",
       "      <td>1,022,489</td>\n",
       "      <td>self-paced on your time</td>\n",
       "      <td>educational testing service</td>\n",
       "      <td>0</td>\n",
       "      <td>beginner</td>\n",
       "      <td>communication</td>\n",
       "      <td>3.0</td>\n",
       "      <td>6.0</td>\n",
       "      <td>18.0</td>\n",
       "      <td>49</td>\n",
       "    </tr>\n",
       "    <tr>\n",
       "      <th>32</th>\n",
       "      <td>principles of biochemistry</td>\n",
       "      <td>257,600</td>\n",
       "      <td>self-paced on your time</td>\n",
       "      <td>harvard university</td>\n",
       "      <td>1</td>\n",
       "      <td>intermediate</td>\n",
       "      <td>medicine</td>\n",
       "      <td>5.0</td>\n",
       "      <td>15.0</td>\n",
       "      <td>75.0</td>\n",
       "      <td>199</td>\n",
       "    </tr>\n",
       "    <tr>\n",
       "      <th>33</th>\n",
       "      <td>using python for research</td>\n",
       "      <td>262,183</td>\n",
       "      <td>self-paced on your time</td>\n",
       "      <td>harvard university</td>\n",
       "      <td>1</td>\n",
       "      <td>intermediate</td>\n",
       "      <td>computer science</td>\n",
       "      <td>3.0</td>\n",
       "      <td>12.0</td>\n",
       "      <td>36.0</td>\n",
       "      <td>99</td>\n",
       "    </tr>\n",
       "    <tr>\n",
       "      <th>34</th>\n",
       "      <td>hinduism through its scriptures</td>\n",
       "      <td>140,782</td>\n",
       "      <td>self-paced on your time</td>\n",
       "      <td>harvard university</td>\n",
       "      <td>1</td>\n",
       "      <td>beginner</td>\n",
       "      <td>humanities</td>\n",
       "      <td>7.5</td>\n",
       "      <td>4.0</td>\n",
       "      <td>30.0</td>\n",
       "      <td>99</td>\n",
       "    </tr>\n",
       "    <tr>\n",
       "      <th>35</th>\n",
       "      <td>basic spanish 1: getting started</td>\n",
       "      <td>400,169</td>\n",
       "      <td>self-paced on your time</td>\n",
       "      <td>universitat politècnica de valencia</td>\n",
       "      <td>0</td>\n",
       "      <td>beginner</td>\n",
       "      <td>communication</td>\n",
       "      <td>4.5</td>\n",
       "      <td>7.0</td>\n",
       "      <td>31.5</td>\n",
       "      <td>40</td>\n",
       "    </tr>\n",
       "    <tr>\n",
       "      <th>36</th>\n",
       "      <td>the health effects of climate change</td>\n",
       "      <td>110,024</td>\n",
       "      <td>self-paced on your time</td>\n",
       "      <td>harvard university</td>\n",
       "      <td>1</td>\n",
       "      <td>beginner</td>\n",
       "      <td>environmental studies</td>\n",
       "      <td>4.0</td>\n",
       "      <td>7.0</td>\n",
       "      <td>28.0</td>\n",
       "      <td>99</td>\n",
       "    </tr>\n",
       "    <tr>\n",
       "      <th>37</th>\n",
       "      <td>inglés básico: conversacional y networking</td>\n",
       "      <td>79,671</td>\n",
       "      <td>self-paced on your time</td>\n",
       "      <td>universidades anáhuac</td>\n",
       "      <td>1</td>\n",
       "      <td>beginner</td>\n",
       "      <td>business &amp; management</td>\n",
       "      <td>6.5</td>\n",
       "      <td>4.0</td>\n",
       "      <td>26.0</td>\n",
       "      <td>49</td>\n",
       "    </tr>\n",
       "    <tr>\n",
       "      <th>38</th>\n",
       "      <td>statistics and r</td>\n",
       "      <td>314,586</td>\n",
       "      <td>self-paced on your time</td>\n",
       "      <td>harvard university</td>\n",
       "      <td>1</td>\n",
       "      <td>intermediate</td>\n",
       "      <td>data analysis &amp; statistics</td>\n",
       "      <td>3.0</td>\n",
       "      <td>4.0</td>\n",
       "      <td>12.0</td>\n",
       "      <td>249</td>\n",
       "    </tr>\n",
       "    <tr>\n",
       "      <th>39</th>\n",
       "      <td>science &amp; cooking: from haute cuisine to soft ...</td>\n",
       "      <td>145,011</td>\n",
       "      <td>self-paced on your time</td>\n",
       "      <td>harvard university</td>\n",
       "      <td>1</td>\n",
       "      <td>beginner</td>\n",
       "      <td>chemistry</td>\n",
       "      <td>2.5</td>\n",
       "      <td>16.0</td>\n",
       "      <td>40.0</td>\n",
       "      <td>199</td>\n",
       "    </tr>\n",
       "    <tr>\n",
       "      <th>40</th>\n",
       "      <td>pyramids of giza: ancient egyptian art and arc...</td>\n",
       "      <td>123,870</td>\n",
       "      <td>self-paced on your time</td>\n",
       "      <td>harvard university</td>\n",
       "      <td>1</td>\n",
       "      <td>beginner</td>\n",
       "      <td>art &amp; culture</td>\n",
       "      <td>3.0</td>\n",
       "      <td>8.0</td>\n",
       "      <td>24.0</td>\n",
       "      <td>99</td>\n",
       "    </tr>\n",
       "    <tr>\n",
       "      <th>41</th>\n",
       "      <td>predictionx: omens, oracles &amp; prophecies</td>\n",
       "      <td>91,566</td>\n",
       "      <td>self-paced on your time</td>\n",
       "      <td>harvard university</td>\n",
       "      <td>1</td>\n",
       "      <td>beginner</td>\n",
       "      <td>social sciences</td>\n",
       "      <td>4.0</td>\n",
       "      <td>1.0</td>\n",
       "      <td>4.0</td>\n",
       "      <td>25</td>\n",
       "    </tr>\n",
       "    <tr>\n",
       "      <th>42</th>\n",
       "      <td>excel: fundamentos y herramientas</td>\n",
       "      <td>284,279</td>\n",
       "      <td>self-paced on your time</td>\n",
       "      <td>universitat politècnica de valencia</td>\n",
       "      <td>0</td>\n",
       "      <td>beginner</td>\n",
       "      <td>computer science</td>\n",
       "      <td>3.5</td>\n",
       "      <td>8.0</td>\n",
       "      <td>28.0</td>\n",
       "      <td>50</td>\n",
       "    </tr>\n",
       "    <tr>\n",
       "      <th>43</th>\n",
       "      <td>lessons from ebola: preventing the next pandemic</td>\n",
       "      <td>91,983</td>\n",
       "      <td>self-paced on your time</td>\n",
       "      <td>harvard university</td>\n",
       "      <td>1</td>\n",
       "      <td>beginner</td>\n",
       "      <td>social sciences</td>\n",
       "      <td>4.0</td>\n",
       "      <td>4.0</td>\n",
       "      <td>16.0</td>\n",
       "      <td>49</td>\n",
       "    </tr>\n",
       "    <tr>\n",
       "      <th>44</th>\n",
       "      <td>improving global health: focusing on quality a...</td>\n",
       "      <td>127,353</td>\n",
       "      <td>self-paced on your time</td>\n",
       "      <td>harvard university</td>\n",
       "      <td>1</td>\n",
       "      <td>intermediate</td>\n",
       "      <td>social sciences</td>\n",
       "      <td>3.0</td>\n",
       "      <td>10.0</td>\n",
       "      <td>30.0</td>\n",
       "      <td>99</td>\n",
       "    </tr>\n",
       "    <tr>\n",
       "      <th>45</th>\n",
       "      <td>cs50 for lawyers</td>\n",
       "      <td>87,336</td>\n",
       "      <td>self-paced on your time</td>\n",
       "      <td>harvard university</td>\n",
       "      <td>1</td>\n",
       "      <td>beginner</td>\n",
       "      <td>computer science</td>\n",
       "      <td>4.5</td>\n",
       "      <td>10.0</td>\n",
       "      <td>45.0</td>\n",
       "      <td>99</td>\n",
       "    </tr>\n",
       "    <tr>\n",
       "      <th>46</th>\n",
       "      <td>data science: visualization</td>\n",
       "      <td>171,258</td>\n",
       "      <td>self-paced on your time</td>\n",
       "      <td>harvard university</td>\n",
       "      <td>1</td>\n",
       "      <td>beginner</td>\n",
       "      <td>data analysis &amp; statistics</td>\n",
       "      <td>1.5</td>\n",
       "      <td>8.0</td>\n",
       "      <td>12.0</td>\n",
       "      <td>49</td>\n",
       "    </tr>\n",
       "    <tr>\n",
       "      <th>47</th>\n",
       "      <td>christianity through its scriptures</td>\n",
       "      <td>125,051</td>\n",
       "      <td>self-paced on your time</td>\n",
       "      <td>harvard university</td>\n",
       "      <td>1</td>\n",
       "      <td>beginner</td>\n",
       "      <td>humanities</td>\n",
       "      <td>7.5</td>\n",
       "      <td>4.0</td>\n",
       "      <td>30.0</td>\n",
       "      <td>99</td>\n",
       "    </tr>\n",
       "    <tr>\n",
       "      <th>48</th>\n",
       "      <td>the science of happiness</td>\n",
       "      <td>475,614</td>\n",
       "      <td>self-paced on your time</td>\n",
       "      <td>university of california, berkeley</td>\n",
       "      <td>1</td>\n",
       "      <td>beginner</td>\n",
       "      <td>social sciences</td>\n",
       "      <td>4.5</td>\n",
       "      <td>11.0</td>\n",
       "      <td>49.5</td>\n",
       "      <td>169</td>\n",
       "    </tr>\n",
       "    <tr>\n",
       "      <th>49</th>\n",
       "      <td>leaders of learning</td>\n",
       "      <td>231,131</td>\n",
       "      <td>self-paced on your time</td>\n",
       "      <td>harvard university</td>\n",
       "      <td>1</td>\n",
       "      <td>beginner</td>\n",
       "      <td>communication</td>\n",
       "      <td>3.0</td>\n",
       "      <td>10.0</td>\n",
       "      <td>30.0</td>\n",
       "      <td>99</td>\n",
       "    </tr>\n",
       "    <tr>\n",
       "      <th>50</th>\n",
       "      <td>exercising leadership: foundational principles</td>\n",
       "      <td>57,814</td>\n",
       "      <td>self-paced on your time</td>\n",
       "      <td>harvard university</td>\n",
       "      <td>1</td>\n",
       "      <td>beginner</td>\n",
       "      <td>business &amp; management</td>\n",
       "      <td>2.5</td>\n",
       "      <td>4.0</td>\n",
       "      <td>10.0</td>\n",
       "      <td>99</td>\n",
       "    </tr>\n",
       "  </tbody>\n",
       "</table>\n",
       "</div>"
      ],
      "text/plain": [
       "                                                 name   students  \\\n",
       "0                                 how to learn online    124,980   \n",
       "1   programming for everybody (getting started wit...    293,864   \n",
       "2             cs50's introduction to computer science  2,442,271   \n",
       "3                                  the analytics edge    129,555   \n",
       "4   marketing analytics: marketing measurement str...     81,140   \n",
       "5                  introduction to project management    301,793   \n",
       "6                       leading high-performing teams     32,847   \n",
       "7                the foundations of happiness at work     67,073   \n",
       "8   managing study, stress and mental health at un...     23,061   \n",
       "9                       six sigma: define and measure     92,411   \n",
       "10         fat chance: probability from the ground up     66,835   \n",
       "11  chasing your dream: how to end procrastination...     44,711   \n",
       "12                       bitcoin and cryptocurrencies     83,398   \n",
       "14                                   ethics in action      6,366   \n",
       "15                            introduction to fintech     72,767   \n",
       "16                             data science: r basics    528,782   \n",
       "17                     python basics for data science    228,809   \n",
       "18                                the science of beer     39,085   \n",
       "19                   strategic social media marketing    103,640   \n",
       "20  cs50's introduction to artificial intelligence...    258,006   \n",
       "21            cs50's introduction to game development    346,748   \n",
       "22  rhetoric: the art of persuasive writing and pu...    320,225   \n",
       "23  cs50's web programming with python and javascript    698,950   \n",
       "24    contract law: from trust to promise to contract    414,181   \n",
       "25  fundamentals of neuroscience, part 1: the elec...    380,167   \n",
       "26                                            justice    392,588   \n",
       "27                     data science: machine learning    276,209   \n",
       "28  child protection: children's rights in theory ...    212,453   \n",
       "29                    ielts academic test preparation  1,103,777   \n",
       "30                      the architectural imagination    406,181   \n",
       "31       toefl® test preparation: the insider’s guide  1,022,489   \n",
       "32                         principles of biochemistry    257,600   \n",
       "33                          using python for research    262,183   \n",
       "34                    hinduism through its scriptures    140,782   \n",
       "35                   basic spanish 1: getting started    400,169   \n",
       "36               the health effects of climate change    110,024   \n",
       "37         inglés básico: conversacional y networking     79,671   \n",
       "38                                   statistics and r    314,586   \n",
       "39  science & cooking: from haute cuisine to soft ...    145,011   \n",
       "40  pyramids of giza: ancient egyptian art and arc...    123,870   \n",
       "41           predictionx: omens, oracles & prophecies     91,566   \n",
       "42                  excel: fundamentos y herramientas    284,279   \n",
       "43   lessons from ebola: preventing the next pandemic     91,983   \n",
       "44  improving global health: focusing on quality a...    127,353   \n",
       "45                                   cs50 for lawyers     87,336   \n",
       "46                        data science: visualization    171,258   \n",
       "47                christianity through its scriptures    125,051   \n",
       "48                           the science of happiness    475,614   \n",
       "49                                leaders of learning    231,131   \n",
       "50     exercising leadership: foundational principles     57,814   \n",
       "\n",
       "                            course_type  \\\n",
       "0               self-paced on your time   \n",
       "1               self-paced on your time   \n",
       "2               self-paced on your time   \n",
       "3   instructor-led on a course schedule   \n",
       "4               self-paced on your time   \n",
       "5               self-paced on your time   \n",
       "6               self-paced on your time   \n",
       "7               self-paced on your time   \n",
       "8               self-paced on your time   \n",
       "9               self-paced on your time   \n",
       "10              self-paced on your time   \n",
       "11              self-paced on your time   \n",
       "12              self-paced on your time   \n",
       "14              self-paced on your time   \n",
       "15              self-paced on your time   \n",
       "16              self-paced on your time   \n",
       "17              self-paced on your time   \n",
       "18              self-paced on your time   \n",
       "19  instructor-led on a course schedule   \n",
       "20              self-paced on your time   \n",
       "21              self-paced on your time   \n",
       "22              self-paced on your time   \n",
       "23              self-paced on your time   \n",
       "24              self-paced on your time   \n",
       "25              self-paced on your time   \n",
       "26              self-paced on your time   \n",
       "27              self-paced on your time   \n",
       "28              self-paced on your time   \n",
       "29              self-paced on your time   \n",
       "30              self-paced on your time   \n",
       "31              self-paced on your time   \n",
       "32              self-paced on your time   \n",
       "33              self-paced on your time   \n",
       "34              self-paced on your time   \n",
       "35              self-paced on your time   \n",
       "36              self-paced on your time   \n",
       "37              self-paced on your time   \n",
       "38              self-paced on your time   \n",
       "39              self-paced on your time   \n",
       "40              self-paced on your time   \n",
       "41              self-paced on your time   \n",
       "42              self-paced on your time   \n",
       "43              self-paced on your time   \n",
       "44              self-paced on your time   \n",
       "45              self-paced on your time   \n",
       "46              self-paced on your time   \n",
       "47              self-paced on your time   \n",
       "48              self-paced on your time   \n",
       "49              self-paced on your time   \n",
       "50              self-paced on your time   \n",
       "\n",
       "                              institution  is_university         level  \\\n",
       "0                                     edx              0      beginner   \n",
       "1              the university of michigan              1      beginner   \n",
       "2                      harvard university              1      beginner   \n",
       "3   massachusetts institute of technology              1  intermediate   \n",
       "4      university of california, berkeley              1      beginner   \n",
       "5                  university of adelaide              1      beginner   \n",
       "6            the university of queensland              1  intermediate   \n",
       "7      university of california, berkeley              1      beginner   \n",
       "8                       curtin university              1      beginner   \n",
       "9          technische universität münchen              1      beginner   \n",
       "10                     harvard university              1      beginner   \n",
       "11   national research nuclear university              1      beginner   \n",
       "12     university of california, berkeley              1      beginner   \n",
       "14                            sdg academy              0  intermediate   \n",
       "15                university of hong kong              1      beginner   \n",
       "16                     harvard university              1      beginner   \n",
       "17                                    ibm              0      beginner   \n",
       "18       wageningen university & research              1      beginner   \n",
       "19                      boston university              1        expert   \n",
       "20                     harvard university              1      beginner   \n",
       "21                     harvard university              1  intermediate   \n",
       "22                     harvard university              1      beginner   \n",
       "23                     harvard university              1  intermediate   \n",
       "24                     harvard university              1  intermediate   \n",
       "25                     harvard university              1      beginner   \n",
       "26                     harvard university              1      beginner   \n",
       "27                     harvard university              1      beginner   \n",
       "28                     harvard university              1      beginner   \n",
       "29           the university of queensland              1      beginner   \n",
       "30                     harvard university              1      beginner   \n",
       "31            educational testing service              0      beginner   \n",
       "32                     harvard university              1  intermediate   \n",
       "33                     harvard university              1  intermediate   \n",
       "34                     harvard university              1      beginner   \n",
       "35    universitat politècnica de valencia              0      beginner   \n",
       "36                     harvard university              1      beginner   \n",
       "37                  universidades anáhuac              1      beginner   \n",
       "38                     harvard university              1  intermediate   \n",
       "39                     harvard university              1      beginner   \n",
       "40                     harvard university              1      beginner   \n",
       "41                     harvard university              1      beginner   \n",
       "42    universitat politècnica de valencia              0      beginner   \n",
       "43                     harvard university              1      beginner   \n",
       "44                     harvard university              1  intermediate   \n",
       "45                     harvard university              1      beginner   \n",
       "46                     harvard university              1      beginner   \n",
       "47                     harvard university              1      beginner   \n",
       "48     university of california, berkeley              1      beginner   \n",
       "49                     harvard university              1      beginner   \n",
       "50                     harvard university              1      beginner   \n",
       "\n",
       "                         subject  hours_per_week  weeks  total_effort  price  \n",
       "0   education & teacher training             2.5    2.0           5.0     49  \n",
       "1               computer science             3.0    7.0          21.0     49  \n",
       "2               computer science            12.0   12.0         144.0     90  \n",
       "3     data analysis & statistics            12.5   13.0         162.5    199  \n",
       "4               computer science             6.0    4.0          24.0    249  \n",
       "5          business & management             2.5    6.0          15.0    199  \n",
       "6                  communication             9.0   10.0          90.0      5  \n",
       "7          business & management             2.5    4.0          10.0    199  \n",
       "8                health & safety             2.0    2.0           4.0     49  \n",
       "9          business & management             3.5    8.0          28.0     99  \n",
       "10                          math             4.0    7.0          28.0     49  \n",
       "11                 communication             4.0    5.0          20.0     49  \n",
       "12              computer science             4.0    6.0          24.0     99  \n",
       "14                        ethics             3.0   10.0          30.0     49  \n",
       "15           economics & finance             2.0    6.0          12.0    199  \n",
       "16    data analysis & statistics             1.5    8.0          12.0     49  \n",
       "17    data analysis & statistics             3.5    5.0          17.5     39  \n",
       "18              food & nutrition             3.0    6.0          18.0     49  \n",
       "19         business & management             5.0    6.0          30.0    399  \n",
       "20              computer science            20.0    7.0         140.0    199  \n",
       "21              computer science             7.5   12.0          90.0    149  \n",
       "22                    humanities             2.5    8.0          20.0     99  \n",
       "23              computer science             7.5   12.0          90.0     90  \n",
       "24         business & management             4.5    8.0          36.0    125  \n",
       "25       biology & life sciences             4.0    5.0          20.0     99  \n",
       "26                    humanities             4.5   12.0          54.0     99  \n",
       "27    data analysis & statistics             3.0    8.0          24.0     49  \n",
       "28               social sciences             4.0   16.0          64.0     99  \n",
       "29                 communication             7.5    8.0          60.0     99  \n",
       "30                  architecture             4.0   10.0          40.0     99  \n",
       "31                 communication             3.0    6.0          18.0     49  \n",
       "32                      medicine             5.0   15.0          75.0    199  \n",
       "33              computer science             3.0   12.0          36.0     99  \n",
       "34                    humanities             7.5    4.0          30.0     99  \n",
       "35                 communication             4.5    7.0          31.5     40  \n",
       "36         environmental studies             4.0    7.0          28.0     99  \n",
       "37         business & management             6.5    4.0          26.0     49  \n",
       "38    data analysis & statistics             3.0    4.0          12.0    249  \n",
       "39                     chemistry             2.5   16.0          40.0    199  \n",
       "40                 art & culture             3.0    8.0          24.0     99  \n",
       "41               social sciences             4.0    1.0           4.0     25  \n",
       "42              computer science             3.5    8.0          28.0     50  \n",
       "43               social sciences             4.0    4.0          16.0     49  \n",
       "44               social sciences             3.0   10.0          30.0     99  \n",
       "45              computer science             4.5   10.0          45.0     99  \n",
       "46    data analysis & statistics             1.5    8.0          12.0     49  \n",
       "47                    humanities             7.5    4.0          30.0     99  \n",
       "48               social sciences             4.5   11.0          49.5    169  \n",
       "49                 communication             3.0   10.0          30.0     99  \n",
       "50         business & management             2.5    4.0          10.0     99  "
      ]
     },
     "execution_count": 110,
     "metadata": {},
     "output_type": "execute_result"
    }
   ],
   "source": [
    "dfe.iloc[0:50]"
   ]
  },
  {
   "cell_type": "markdown",
   "id": "30fd46ce",
   "metadata": {},
   "source": [
    "Normalizar la columna students y cambiar el tipo de dato"
   ]
  },
  {
   "cell_type": "code",
   "execution_count": 111,
   "id": "0eadbf86",
   "metadata": {},
   "outputs": [],
   "source": [
    "dfe.students = dfe.students.apply(lambda x: x.replace(',', ''))"
   ]
  },
  {
   "cell_type": "code",
   "execution_count": 112,
   "id": "33841c87",
   "metadata": {},
   "outputs": [],
   "source": [
    "dfe.students = dfe.students.astype(int)"
   ]
  },
  {
   "cell_type": "code",
   "execution_count": 225,
   "id": "24f1f0d7",
   "metadata": {},
   "outputs": [],
   "source": [
    "dfe.to_csv('dataSets\\\\para_dashboard\\\\edx.csv', index = False)"
   ]
  },
  {
   "cell_type": "markdown",
   "id": "7c6763ce",
   "metadata": {},
   "source": [
    "__Esto concluye la preparación de este set__"
   ]
  },
  {
   "cell_type": "markdown",
   "id": "5678835b",
   "metadata": {},
   "source": [
    "# Udemy"
   ]
  },
  {
   "cell_type": "code",
   "execution_count": 227,
   "id": "20838fb4",
   "metadata": {},
   "outputs": [
    {
     "data": {
      "text/plain": [
       "course_id              0.0\n",
       "course_title           0.0\n",
       "url                    0.0\n",
       "is_paid                0.0\n",
       "price                  0.0\n",
       "num_subscribers        0.0\n",
       "num_reviews            0.0\n",
       "num_lectures           0.0\n",
       "level                  0.0\n",
       "content_duration       0.0\n",
       "published_timestamp    0.0\n",
       "subject                0.0\n",
       "dtype: float64"
      ]
     },
     "execution_count": 227,
     "metadata": {},
     "output_type": "execute_result"
    }
   ],
   "source": [
    "get_nan_in_df(dfu)"
   ]
  },
  {
   "cell_type": "markdown",
   "id": "fc05466c",
   "metadata": {},
   "source": [
    "__el data frame de Udemy no presenta valores nulos, así que vamos a normalizar los datos string__"
   ]
  },
  {
   "cell_type": "code",
   "execution_count": 228,
   "id": "a4624b6b",
   "metadata": {},
   "outputs": [],
   "source": [
    "normalize_df_text_columns(dfu, 'lower')"
   ]
  },
  {
   "cell_type": "markdown",
   "id": "651d832c",
   "metadata": {},
   "source": [
    "__ahora busquemos duplicados  y eliminémoslos__"
   ]
  },
  {
   "cell_type": "code",
   "execution_count": 229,
   "id": "553c8532",
   "metadata": {},
   "outputs": [],
   "source": [
    "df_dups = dfu[dfu.duplicated()]"
   ]
  },
  {
   "cell_type": "code",
   "execution_count": 230,
   "id": "d15ebc26",
   "metadata": {},
   "outputs": [],
   "source": [
    "dfu =  dfu[dfu.duplicated() == False] "
   ]
  },
  {
   "cell_type": "code",
   "execution_count": 231,
   "id": "9a9dd112",
   "metadata": {},
   "outputs": [
    {
     "data": {
      "text/plain": [
       "True     3362\n",
       "False     310\n",
       "Name: is_paid, dtype: int64"
      ]
     },
     "execution_count": 231,
     "metadata": {},
     "output_type": "execute_result"
    }
   ],
   "source": [
    "dfu.is_paid.value_counts()"
   ]
  },
  {
   "cell_type": "code",
   "execution_count": 232,
   "id": "433ff1a3",
   "metadata": {},
   "outputs": [
    {
     "data": {
      "text/plain": [
       "1658"
      ]
     },
     "execution_count": 232,
     "metadata": {},
     "output_type": "execute_result"
    }
   ],
   "source": [
    "dfu.content_duration.idxmax()"
   ]
  },
  {
   "cell_type": "markdown",
   "id": "874af9eb",
   "metadata": {},
   "source": [
    "__El contenido de Udemy se mide en horas netas de video. Por lo tanto, para tener una idea del esfuerzo real invertido, multiplicaremos este tiempo por tres. De esta manera contemplamos el tiempo para anotar, para volver sobre el video, para practicar, entre otras tareas.\n",
    "Reflejaremos este esfuerzo en la columna 'total_effort'.__"
   ]
  },
  {
   "cell_type": "code",
   "execution_count": 233,
   "id": "fba5f024",
   "metadata": {},
   "outputs": [
    {
     "data": {
      "text/plain": [
       "all levels            1925\n",
       "beginner level        1268\n",
       "intermediate level     421\n",
       "expert level            58\n",
       "Name: level, dtype: int64"
      ]
     },
     "execution_count": 233,
     "metadata": {},
     "output_type": "execute_result"
    }
   ],
   "source": [
    "dfu.level.value_counts()"
   ]
  },
  {
   "cell_type": "markdown",
   "id": "51fb590b",
   "metadata": {},
   "source": [
    "__normalicemos la columna level__"
   ]
  },
  {
   "cell_type": "code",
   "execution_count": 234,
   "id": "42ead378",
   "metadata": {},
   "outputs": [],
   "source": [
    "dfu.insert(10,'total_effort', dfu.content_duration * 3)"
   ]
  },
  {
   "cell_type": "code",
   "execution_count": 235,
   "id": "24ff57c5",
   "metadata": {},
   "outputs": [],
   "source": [
    "dfu.level= dfu.level.apply(lambda x: x.replace(' level', '').replace(' levels',''))"
   ]
  },
  {
   "cell_type": "code",
   "execution_count": 236,
   "id": "98315307",
   "metadata": {},
   "outputs": [],
   "source": [
    "dfu.level = dfu.level.apply(lambda x: x.replace('alls', 'mixed'))"
   ]
  },
  {
   "cell_type": "code",
   "execution_count": 237,
   "id": "546e28d0",
   "metadata": {},
   "outputs": [
    {
     "data": {
      "text/plain": [
       "mixed           1925\n",
       "beginner        1268\n",
       "intermediate     421\n",
       "expert            58\n",
       "Name: level, dtype: int64"
      ]
     },
     "execution_count": 237,
     "metadata": {},
     "output_type": "execute_result"
    }
   ],
   "source": [
    "dfu.level.value_counts()"
   ]
  },
  {
   "cell_type": "markdown",
   "id": "396211a7",
   "metadata": {},
   "source": [
    "__Cambiemos el tipo de dato del tiempo de publicación  y el nombre de la columna__ "
   ]
  },
  {
   "cell_type": "code",
   "execution_count": 238,
   "id": "04825dfa",
   "metadata": {},
   "outputs": [],
   "source": [
    "dfu.published_timestamp = pd.to_datetime(dfu.published_timestamp).dt.date"
   ]
  },
  {
   "cell_type": "code",
   "execution_count": 239,
   "id": "9007f208",
   "metadata": {},
   "outputs": [],
   "source": [
    "dfu.rename(columns = {'published_timestamp':'published_on'}, inplace =True)"
   ]
  },
  {
   "cell_type": "markdown",
   "id": "7c6b8e90",
   "metadata": {},
   "source": [
    "Eliminamos las siguientes columnas:\n",
    "\n",
    "|Columna              |Razón                                              |\n",
    "|---------------------|---------------------------------------------------|\n",
    "|\"course_id\"    |es metadata                       |\n",
    "|\"num_reviews\"        |No encontramos información relevante en este campo|\n",
    "|\"course_description\" |Es una ampliación de la columna anterior|"
   ]
  },
  {
   "cell_type": "code",
   "execution_count": 240,
   "id": "f5f5580b",
   "metadata": {},
   "outputs": [],
   "source": [
    "dfu.drop(columns=['course_id','num_reviews'], inplace = True)"
   ]
  },
  {
   "cell_type": "code",
   "execution_count": 241,
   "id": "56f841f4",
   "metadata": {},
   "outputs": [],
   "source": [
    "#dfu.head()"
   ]
  },
  {
   "cell_type": "markdown",
   "id": "2c07a0c1",
   "metadata": {},
   "source": [
    "#### Vamos a crear una columna que registre los cursos que ya no están online"
   ]
  },
  {
   "cell_type": "code",
   "execution_count": 242,
   "id": "13f95eda",
   "metadata": {},
   "outputs": [],
   "source": [
    "dfu.reset_index(drop = True, inplace = True)"
   ]
  },
  {
   "cell_type": "code",
   "execution_count": 243,
   "id": "8fd63587",
   "metadata": {},
   "outputs": [],
   "source": [
    "dfu.insert(len(dfu.columns),'is_online', 0)"
   ]
  },
  {
   "cell_type": "markdown",
   "id": "c6fc5fcc",
   "metadata": {},
   "source": [
    "#### Accedemos a las páginas web del set de datos para obtener información"
   ]
  },
  {
   "cell_type": "code",
   "execution_count": 244,
   "id": "68fd7fa2",
   "metadata": {},
   "outputs": [],
   "source": [
    "import httplib2\n",
    "from pprint import pprint     # Ayuda a visualizar los return de texto de algunas y librerías y de raw Python"
   ]
  },
  {
   "cell_type": "code",
   "execution_count": 245,
   "id": "194c480b",
   "metadata": {},
   "outputs": [],
   "source": [
    "# Creamos nuestro objeto conexión con protocolo http y \n",
    "conn = httplib2.Http()\n",
    "# respuesta de prueba\n",
    "#resp, content = conn.request(uri=\"https://www.udemy.com/accounts-receivable-help/\")\n",
    "#pprint(resp)"
   ]
  },
  {
   "cell_type": "markdown",
   "id": "900daeb4",
   "metadata": {},
   "source": [
    "__Debajo está el algoritmo utilizado para comprobar la existencia de los cursos en Udemy__"
   ]
  },
  {
   "cell_type": "code",
   "execution_count": 133,
   "id": "c6487e77",
   "metadata": {},
   "outputs": [],
   "source": [
    "# Descomentar: seleccionar todo --> Ctrl + A, quitar comentarios Ctrl + /"
   ]
  },
  {
   "cell_type": "code",
   "execution_count": 248,
   "id": "db4739a1",
   "metadata": {},
   "outputs": [
    {
     "name": "stdout",
     "output_type": "stream",
     "text": [
      "CPU times: total: 30.5 s\n",
      "Wall time: 1h 20min 1s\n"
     ]
    }
   ],
   "source": [
    "# %%time\n",
    "# for i in range(len(dfu.url)):\n",
    "#     # lista de errores que necesiten ser debugeados\n",
    "#     list_errors= []\n",
    "#     # guardar url en una variable\n",
    "#     web_url = dfu.at[i,'url']\n",
    "#     try:\n",
    "#         # objeto que guarda el contenido de la respuesta a la url objetivo\n",
    "#         resp, content = conn.request(uri=web_url)\n",
    "#         # guardar el siguiente valor que existe en la respuesta\n",
    "#         content = resp.get('content-location')\n",
    "#         # si hay conexión a la página y si no encontramos la palabra clave 'draft', usada en la url de cursos inactivos\n",
    "#         if (resp.status == 200) & (content.find('draft') == -1):\n",
    "#         # guardamos el valor 1(true) en la columna de destino, caso contrario no hacemos nada y queda el 0 inicial\n",
    "#             dfu.at[i, 'is_online'] = 1\n",
    "#     except (AttributeError):\n",
    "#         dfu.at[i, 'is_online'] = 0\n",
    "#         list_errors.append(i)    \n",
    "#     except (TimeoutError):       \n",
    "#         list_errors.append(i)"
   ]
  },
  {
   "cell_type": "code",
   "execution_count": 257,
   "id": "1da0e63f",
   "metadata": {},
   "outputs": [
    {
     "data": {
      "text/html": [
       "<div>\n",
       "<style scoped>\n",
       "    .dataframe tbody tr th:only-of-type {\n",
       "        vertical-align: middle;\n",
       "    }\n",
       "\n",
       "    .dataframe tbody tr th {\n",
       "        vertical-align: top;\n",
       "    }\n",
       "\n",
       "    .dataframe thead th {\n",
       "        text-align: right;\n",
       "    }\n",
       "</style>\n",
       "<table border=\"1\" class=\"dataframe\">\n",
       "  <thead>\n",
       "    <tr style=\"text-align: right;\">\n",
       "      <th></th>\n",
       "      <th>course_title</th>\n",
       "      <th>url</th>\n",
       "      <th>is_paid</th>\n",
       "      <th>price</th>\n",
       "      <th>num_subscribers</th>\n",
       "      <th>num_lectures</th>\n",
       "      <th>level</th>\n",
       "      <th>content_duration</th>\n",
       "      <th>total_effort</th>\n",
       "      <th>published_on</th>\n",
       "      <th>subject</th>\n",
       "      <th>is_online</th>\n",
       "    </tr>\n",
       "  </thead>\n",
       "  <tbody>\n",
       "    <tr>\n",
       "      <th>3667</th>\n",
       "      <td>learn jquery from scratch - master of javascri...</td>\n",
       "      <td>https://www.udemy.com/easy-jquery-for-beginner...</td>\n",
       "      <td>True</td>\n",
       "      <td>100</td>\n",
       "      <td>1040</td>\n",
       "      <td>21</td>\n",
       "      <td>mixed</td>\n",
       "      <td>2.0</td>\n",
       "      <td>6.0</td>\n",
       "      <td>2016-06-14</td>\n",
       "      <td>web development</td>\n",
       "      <td>1</td>\n",
       "    </tr>\n",
       "    <tr>\n",
       "      <th>3668</th>\n",
       "      <td>how to design a wordpress website with no codi...</td>\n",
       "      <td>https://www.udemy.com/how-to-make-a-wordpress-...</td>\n",
       "      <td>True</td>\n",
       "      <td>25</td>\n",
       "      <td>306</td>\n",
       "      <td>42</td>\n",
       "      <td>beginner</td>\n",
       "      <td>3.5</td>\n",
       "      <td>10.5</td>\n",
       "      <td>2017-03-10</td>\n",
       "      <td>web development</td>\n",
       "      <td>0</td>\n",
       "    </tr>\n",
       "    <tr>\n",
       "      <th>3669</th>\n",
       "      <td>learn and build using polymer</td>\n",
       "      <td>https://www.udemy.com/learn-and-build-using-po...</td>\n",
       "      <td>True</td>\n",
       "      <td>40</td>\n",
       "      <td>513</td>\n",
       "      <td>48</td>\n",
       "      <td>mixed</td>\n",
       "      <td>3.5</td>\n",
       "      <td>10.5</td>\n",
       "      <td>2015-12-30</td>\n",
       "      <td>web development</td>\n",
       "      <td>1</td>\n",
       "    </tr>\n",
       "    <tr>\n",
       "      <th>3670</th>\n",
       "      <td>css animations: create amazing effects on your...</td>\n",
       "      <td>https://www.udemy.com/css-animations-create-am...</td>\n",
       "      <td>True</td>\n",
       "      <td>50</td>\n",
       "      <td>300</td>\n",
       "      <td>38</td>\n",
       "      <td>mixed</td>\n",
       "      <td>3.0</td>\n",
       "      <td>9.0</td>\n",
       "      <td>2016-08-11</td>\n",
       "      <td>web development</td>\n",
       "      <td>0</td>\n",
       "    </tr>\n",
       "    <tr>\n",
       "      <th>3671</th>\n",
       "      <td>using modx cms to build websites: a beginner's...</td>\n",
       "      <td>https://www.udemy.com/using-modx-cms-to-build-...</td>\n",
       "      <td>True</td>\n",
       "      <td>45</td>\n",
       "      <td>901</td>\n",
       "      <td>20</td>\n",
       "      <td>beginner</td>\n",
       "      <td>2.0</td>\n",
       "      <td>6.0</td>\n",
       "      <td>2014-09-28</td>\n",
       "      <td>web development</td>\n",
       "      <td>1</td>\n",
       "    </tr>\n",
       "  </tbody>\n",
       "</table>\n",
       "</div>"
      ],
      "text/plain": [
       "                                           course_title  \\\n",
       "3667  learn jquery from scratch - master of javascri...   \n",
       "3668  how to design a wordpress website with no codi...   \n",
       "3669                      learn and build using polymer   \n",
       "3670  css animations: create amazing effects on your...   \n",
       "3671  using modx cms to build websites: a beginner's...   \n",
       "\n",
       "                                                    url  is_paid  price  \\\n",
       "3667  https://www.udemy.com/easy-jquery-for-beginner...     True    100   \n",
       "3668  https://www.udemy.com/how-to-make-a-wordpress-...     True     25   \n",
       "3669  https://www.udemy.com/learn-and-build-using-po...     True     40   \n",
       "3670  https://www.udemy.com/css-animations-create-am...     True     50   \n",
       "3671  https://www.udemy.com/using-modx-cms-to-build-...     True     45   \n",
       "\n",
       "      num_subscribers  num_lectures     level  content_duration  total_effort  \\\n",
       "3667             1040            21     mixed               2.0           6.0   \n",
       "3668              306            42  beginner               3.5          10.5   \n",
       "3669              513            48     mixed               3.5          10.5   \n",
       "3670              300            38     mixed               3.0           9.0   \n",
       "3671              901            20  beginner               2.0           6.0   \n",
       "\n",
       "     published_on          subject  is_online  \n",
       "3667   2016-06-14  web development          1  \n",
       "3668   2017-03-10  web development          0  \n",
       "3669   2015-12-30  web development          1  \n",
       "3670   2016-08-11  web development          0  \n",
       "3671   2014-09-28  web development          1  "
      ]
     },
     "execution_count": 257,
     "metadata": {},
     "output_type": "execute_result"
    }
   ],
   "source": [
    " dfu.tail()"
   ]
  },
  {
   "cell_type": "markdown",
   "id": "8af62871",
   "metadata": {},
   "source": [
    "### Incorporamos un nuevo data frame de Udemy"
   ]
  },
  {
   "cell_type": "code",
   "execution_count": 258,
   "id": "5ffda1e5",
   "metadata": {
    "scrolled": true
   },
   "outputs": [],
   "source": [
    "udr = pd.read_csv('dataSets\\\\udemy_rankings.csv')"
   ]
  },
  {
   "cell_type": "code",
   "execution_count": 259,
   "id": "29731aeb",
   "metadata": {},
   "outputs": [],
   "source": [
    "udr.drop(columns = 'Unnamed: 0', inplace=True )"
   ]
  },
  {
   "cell_type": "code",
   "execution_count": 260,
   "id": "669bf938",
   "metadata": {},
   "outputs": [
    {
     "data": {
      "text/plain": [
       "url       2.501359\n",
       "rating    1.903208\n",
       "dtype: float64"
      ]
     },
     "execution_count": 260,
     "metadata": {},
     "output_type": "execute_result"
    }
   ],
   "source": [
    "get_nan_in_df(udr)"
   ]
  },
  {
   "cell_type": "code",
   "execution_count": 261,
   "id": "c1d12190",
   "metadata": {},
   "outputs": [],
   "source": [
    "udr = udr[udr.rating.isna() == False]"
   ]
  },
  {
   "cell_type": "code",
   "execution_count": 262,
   "id": "116032ec",
   "metadata": {},
   "outputs": [],
   "source": [
    "udr = udr[udr.url.isna() == False]"
   ]
  },
  {
   "cell_type": "code",
   "execution_count": 263,
   "id": "e64c367a",
   "metadata": {},
   "outputs": [],
   "source": [
    "def tiene_digitos(string):\n",
    "    for chr in string:\n",
    "        if chr.isdigit():\n",
    "            return True"
   ]
  },
  {
   "cell_type": "markdown",
   "id": "24040cc3",
   "metadata": {},
   "source": [
    "eliminemos los registros que no tienen dígitos "
   ]
  },
  {
   "cell_type": "code",
   "execution_count": 264,
   "id": "59cd6a18",
   "metadata": {},
   "outputs": [],
   "source": [
    "udr = udr[udr.rating.apply(tiene_digitos) == True]"
   ]
  },
  {
   "cell_type": "markdown",
   "id": "575f1dfc",
   "metadata": {},
   "source": [
    "extraigamos el rating"
   ]
  },
  {
   "cell_type": "code",
   "execution_count": 265,
   "id": "1e3aa729",
   "metadata": {},
   "outputs": [],
   "source": [
    "udr.rating = udr.rating.apply(lambda x: x.split(' ')[1])"
   ]
  },
  {
   "cell_type": "markdown",
   "id": "d2bd94ba",
   "metadata": {},
   "source": [
    "limpiemos los valores restantes"
   ]
  },
  {
   "cell_type": "code",
   "execution_count": 266,
   "id": "09449573",
   "metadata": {},
   "outputs": [],
   "source": [
    "udr.rating = udr.rating.apply(lambda x: x.split('（5段階中）')[0])"
   ]
  },
  {
   "cell_type": "code",
   "execution_count": 267,
   "id": "ea00c8d5",
   "metadata": {},
   "outputs": [
    {
     "data": {
      "text/html": [
       "<div>\n",
       "<style scoped>\n",
       "    .dataframe tbody tr th:only-of-type {\n",
       "        vertical-align: middle;\n",
       "    }\n",
       "\n",
       "    .dataframe tbody tr th {\n",
       "        vertical-align: top;\n",
       "    }\n",
       "\n",
       "    .dataframe thead th {\n",
       "        text-align: right;\n",
       "    }\n",
       "</style>\n",
       "<table border=\"1\" class=\"dataframe\">\n",
       "  <thead>\n",
       "    <tr style=\"text-align: right;\">\n",
       "      <th></th>\n",
       "      <th>rating</th>\n",
       "      <th>url</th>\n",
       "    </tr>\n",
       "  </thead>\n",
       "  <tbody>\n",
       "    <tr>\n",
       "      <th>0</th>\n",
       "      <td>3.6</td>\n",
       "      <td>https://www.udemy.com/ultimate-investment-bank...</td>\n",
       "    </tr>\n",
       "    <tr>\n",
       "      <th>1</th>\n",
       "      <td>4.4</td>\n",
       "      <td>https://www.udemy.com/goods-and-services-tax/</td>\n",
       "    </tr>\n",
       "    <tr>\n",
       "      <th>2</th>\n",
       "      <td>4.3</td>\n",
       "      <td>https://www.udemy.com/financial-modeling-for-b...</td>\n",
       "    </tr>\n",
       "    <tr>\n",
       "      <th>3</th>\n",
       "      <td>4.0</td>\n",
       "      <td>https://www.udemy.com/complete-excel-finance-c...</td>\n",
       "    </tr>\n",
       "    <tr>\n",
       "      <th>4</th>\n",
       "      <td>4.7</td>\n",
       "      <td>https://www.udemy.com/how-to-maximize-your-pro...</td>\n",
       "    </tr>\n",
       "    <tr>\n",
       "      <th>...</th>\n",
       "      <td>...</td>\n",
       "      <td>...</td>\n",
       "    </tr>\n",
       "    <tr>\n",
       "      <th>3669</th>\n",
       "      <td>4.2</td>\n",
       "      <td>https://www.udemy.com/building-better-apis-wit...</td>\n",
       "    </tr>\n",
       "    <tr>\n",
       "      <th>3670</th>\n",
       "      <td>3.6</td>\n",
       "      <td>https://www.udemy.com/learn-grunt-automate-you...</td>\n",
       "    </tr>\n",
       "    <tr>\n",
       "      <th>3672</th>\n",
       "      <td>4.6</td>\n",
       "      <td>https://www.udemy.com/jquery-ui-practical-buil...</td>\n",
       "    </tr>\n",
       "    <tr>\n",
       "      <th>3675</th>\n",
       "      <td>3.4</td>\n",
       "      <td>https://www.udemy.com/learn-and-build-using-po...</td>\n",
       "    </tr>\n",
       "    <tr>\n",
       "      <th>3677</th>\n",
       "      <td>4.2</td>\n",
       "      <td>https://www.udemy.com/using-modx-cms-to-build-...</td>\n",
       "    </tr>\n",
       "  </tbody>\n",
       "</table>\n",
       "<p>2243 rows × 2 columns</p>\n",
       "</div>"
      ],
      "text/plain": [
       "     rating                                                url\n",
       "0       3.6  https://www.udemy.com/ultimate-investment-bank...\n",
       "1       4.4      https://www.udemy.com/goods-and-services-tax/\n",
       "2       4.3  https://www.udemy.com/financial-modeling-for-b...\n",
       "3       4.0  https://www.udemy.com/complete-excel-finance-c...\n",
       "4       4.7  https://www.udemy.com/how-to-maximize-your-pro...\n",
       "...     ...                                                ...\n",
       "3669    4.2  https://www.udemy.com/building-better-apis-wit...\n",
       "3670    3.6  https://www.udemy.com/learn-grunt-automate-you...\n",
       "3672    4.6  https://www.udemy.com/jquery-ui-practical-buil...\n",
       "3675    3.4  https://www.udemy.com/learn-and-build-using-po...\n",
       "3677    4.2  https://www.udemy.com/using-modx-cms-to-build-...\n",
       "\n",
       "[2243 rows x 2 columns]"
      ]
     },
     "execution_count": 267,
     "metadata": {},
     "output_type": "execute_result"
    }
   ],
   "source": [
    "# Eliminamos el dato faltante\n",
    "udr = udr[udr.rating != '5점']\n",
    "udr"
   ]
  },
  {
   "cell_type": "markdown",
   "id": "1757af5b",
   "metadata": {},
   "source": [
    "### Merge"
   ]
  },
  {
   "cell_type": "code",
   "execution_count": 268,
   "id": "b105ae10",
   "metadata": {},
   "outputs": [],
   "source": [
    "dfu = pd.merge(dfu, udr, on='url', how='left')"
   ]
  },
  {
   "cell_type": "code",
   "execution_count": 269,
   "id": "5d3d81c6",
   "metadata": {},
   "outputs": [
    {
     "data": {
      "text/plain": [
       "rating              38.965986\n",
       "course_title         0.000000\n",
       "url                  0.000000\n",
       "is_paid              0.000000\n",
       "price                0.000000\n",
       "num_subscribers      0.000000\n",
       "num_lectures         0.000000\n",
       "level                0.000000\n",
       "content_duration     0.000000\n",
       "total_effort         0.000000\n",
       "published_on         0.000000\n",
       "subject              0.000000\n",
       "is_online            0.000000\n",
       "dtype: float64"
      ]
     },
     "execution_count": 269,
     "metadata": {},
     "output_type": "execute_result"
    }
   ],
   "source": [
    "get_nan_in_df(dfu)"
   ]
  },
  {
   "cell_type": "code",
   "execution_count": 2,
   "id": "a204a72e",
   "metadata": {},
   "outputs": [],
   "source": [
    "#dfu.head()"
   ]
  },
  {
   "cell_type": "markdown",
   "id": "aa87cf76",
   "metadata": {},
   "source": [
    "Eliminamos la columna 'url'"
   ]
  },
  {
   "cell_type": "code",
   "execution_count": 271,
   "id": "cc02cda9",
   "metadata": {},
   "outputs": [],
   "source": [
    "dfu.drop(columns= 'url', inplace=True)"
   ]
  },
  {
   "cell_type": "markdown",
   "id": "593fdd84",
   "metadata": {},
   "source": [
    "Normalizamos los encabezados"
   ]
  },
  {
   "cell_type": "code",
   "execution_count": 274,
   "id": "8ebcfa69",
   "metadata": {},
   "outputs": [
    {
     "data": {
      "text/html": [
       "<div>\n",
       "<style scoped>\n",
       "    .dataframe tbody tr th:only-of-type {\n",
       "        vertical-align: middle;\n",
       "    }\n",
       "\n",
       "    .dataframe tbody tr th {\n",
       "        vertical-align: top;\n",
       "    }\n",
       "\n",
       "    .dataframe thead th {\n",
       "        text-align: right;\n",
       "    }\n",
       "</style>\n",
       "<table border=\"1\" class=\"dataframe\">\n",
       "  <thead>\n",
       "    <tr style=\"text-align: right;\">\n",
       "      <th></th>\n",
       "      <th>name</th>\n",
       "      <th>is_paid</th>\n",
       "      <th>price</th>\n",
       "      <th>students</th>\n",
       "      <th>num_lectures</th>\n",
       "      <th>level</th>\n",
       "      <th>content_duration</th>\n",
       "      <th>total_effort</th>\n",
       "      <th>published_on</th>\n",
       "      <th>subject</th>\n",
       "      <th>is_online</th>\n",
       "      <th>rating</th>\n",
       "    </tr>\n",
       "  </thead>\n",
       "  <tbody>\n",
       "    <tr>\n",
       "      <th>0</th>\n",
       "      <td>ultimate investment banking course</td>\n",
       "      <td>True</td>\n",
       "      <td>200</td>\n",
       "      <td>2147</td>\n",
       "      <td>51</td>\n",
       "      <td>mixed</td>\n",
       "      <td>1.5</td>\n",
       "      <td>4.5</td>\n",
       "      <td>2017-01-18</td>\n",
       "      <td>business finance</td>\n",
       "      <td>1</td>\n",
       "      <td>3.6</td>\n",
       "    </tr>\n",
       "    <tr>\n",
       "      <th>1</th>\n",
       "      <td>complete gst course &amp; certification - grow you...</td>\n",
       "      <td>True</td>\n",
       "      <td>75</td>\n",
       "      <td>2792</td>\n",
       "      <td>274</td>\n",
       "      <td>mixed</td>\n",
       "      <td>39.0</td>\n",
       "      <td>117.0</td>\n",
       "      <td>2017-03-09</td>\n",
       "      <td>business finance</td>\n",
       "      <td>1</td>\n",
       "      <td>4.4</td>\n",
       "    </tr>\n",
       "    <tr>\n",
       "      <th>2</th>\n",
       "      <td>financial modeling for business analysts and c...</td>\n",
       "      <td>True</td>\n",
       "      <td>45</td>\n",
       "      <td>2174</td>\n",
       "      <td>51</td>\n",
       "      <td>intermediate</td>\n",
       "      <td>2.5</td>\n",
       "      <td>7.5</td>\n",
       "      <td>2016-12-19</td>\n",
       "      <td>business finance</td>\n",
       "      <td>1</td>\n",
       "      <td>4.3</td>\n",
       "    </tr>\n",
       "    <tr>\n",
       "      <th>3</th>\n",
       "      <td>beginner to pro - financial analysis in excel ...</td>\n",
       "      <td>True</td>\n",
       "      <td>95</td>\n",
       "      <td>2451</td>\n",
       "      <td>36</td>\n",
       "      <td>mixed</td>\n",
       "      <td>3.0</td>\n",
       "      <td>9.0</td>\n",
       "      <td>2017-05-30</td>\n",
       "      <td>business finance</td>\n",
       "      <td>1</td>\n",
       "      <td>4.0</td>\n",
       "    </tr>\n",
       "    <tr>\n",
       "      <th>4</th>\n",
       "      <td>how to maximize your profits trading options</td>\n",
       "      <td>True</td>\n",
       "      <td>200</td>\n",
       "      <td>1276</td>\n",
       "      <td>26</td>\n",
       "      <td>intermediate</td>\n",
       "      <td>2.0</td>\n",
       "      <td>6.0</td>\n",
       "      <td>2016-12-13</td>\n",
       "      <td>business finance</td>\n",
       "      <td>1</td>\n",
       "      <td>4.7</td>\n",
       "    </tr>\n",
       "  </tbody>\n",
       "</table>\n",
       "</div>"
      ],
      "text/plain": [
       "                                                name  is_paid  price  \\\n",
       "0                 ultimate investment banking course     True    200   \n",
       "1  complete gst course & certification - grow you...     True     75   \n",
       "2  financial modeling for business analysts and c...     True     45   \n",
       "3  beginner to pro - financial analysis in excel ...     True     95   \n",
       "4       how to maximize your profits trading options     True    200   \n",
       "\n",
       "   students  num_lectures         level  content_duration  total_effort  \\\n",
       "0      2147            51         mixed               1.5           4.5   \n",
       "1      2792           274         mixed              39.0         117.0   \n",
       "2      2174            51  intermediate               2.5           7.5   \n",
       "3      2451            36         mixed               3.0           9.0   \n",
       "4      1276            26  intermediate               2.0           6.0   \n",
       "\n",
       "  published_on           subject  is_online rating  \n",
       "0   2017-01-18  business finance          1    3.6  \n",
       "1   2017-03-09  business finance          1    4.4  \n",
       "2   2016-12-19  business finance          1    4.3  \n",
       "3   2017-05-30  business finance          1    4.0  \n",
       "4   2016-12-13  business finance          1    4.7  "
      ]
     },
     "execution_count": 274,
     "metadata": {},
     "output_type": "execute_result"
    }
   ],
   "source": [
    "dfu.head()"
   ]
  },
  {
   "cell_type": "code",
   "execution_count": 273,
   "id": "6a9f9c66",
   "metadata": {},
   "outputs": [],
   "source": [
    "dfu.rename(columns = {'course_title':'name','num_subscribers':'students'}, inplace=True)"
   ]
  },
  {
   "cell_type": "markdown",
   "id": "f512c8a3",
   "metadata": {},
   "source": [
    "Cambiamos el tipo de dato a la columna rating"
   ]
  },
  {
   "cell_type": "code",
   "execution_count": 20,
   "id": "5bfdcdde",
   "metadata": {},
   "outputs": [],
   "source": [
    "dfu.rating = dfu.rating.fillna('-127.35')   # rellenamos los nulos con un valor que no exista en los ratings"
   ]
  },
  {
   "cell_type": "code",
   "execution_count": 21,
   "id": "50ae1d85",
   "metadata": {},
   "outputs": [],
   "source": [
    "dfu.rating = dfu.rating.apply(lambda x: x.replace(',','.')) # reempazamos las comas"
   ]
  },
  {
   "cell_type": "code",
   "execution_count": 23,
   "id": "fdd88c19",
   "metadata": {},
   "outputs": [],
   "source": [
    "dfu.rating = dfu.rating.astype(float)     # convertimos el tipo de dato "
   ]
  },
  {
   "cell_type": "code",
   "execution_count": 28,
   "id": "9d78ae89",
   "metadata": {},
   "outputs": [],
   "source": [
    "dfu.rating = dfu.rating.replace(-127.35, np.nan)      # ahora podemos revertir el cambio del primer paso"
   ]
  },
  {
   "cell_type": "code",
   "execution_count": 275,
   "id": "1655fcaf",
   "metadata": {},
   "outputs": [],
   "source": [
    "#dfu.to_csv('dataSets\\\\para_dashboard\\\\udemy.csv', index= False)"
   ]
  },
  {
   "cell_type": "markdown",
   "id": "85d4506d",
   "metadata": {},
   "source": [
    "# Detección y tratamiento de outliers"
   ]
  },
  {
   "cell_type": "code",
   "execution_count": null,
   "id": "3193e075",
   "metadata": {},
   "outputs": [],
   "source": []
  },
  {
   "cell_type": "code",
   "execution_count": 152,
   "id": "b3681a79",
   "metadata": {},
   "outputs": [],
   "source": [
    "dfc = pd.read_csv('dataSets\\\\para_dashboard\\\\coursera.csv')"
   ]
  },
  {
   "cell_type": "code",
   "execution_count": 153,
   "id": "5a461a8a",
   "metadata": {},
   "outputs": [],
   "source": [
    "dfe =  pd.read_csv('dataSets\\\\para_dashboard\\\\edx.csv')"
   ]
  },
  {
   "cell_type": "code",
   "execution_count": 31,
   "id": "9906e171",
   "metadata": {},
   "outputs": [],
   "source": [
    "dfu = pd.read_csv('dataSets\\\\para_dashboard\\\\udemy.csv')"
   ]
  },
  {
   "cell_type": "code",
   "execution_count": 6,
   "id": "6cbbf2c6",
   "metadata": {},
   "outputs": [
    {
     "data": {
      "text/plain": [
       "0         67\n",
       "1         49\n",
       "5         28\n",
       "2         27\n",
       "3         26\n",
       "          ..\n",
       "1638       1\n",
       "1631       1\n",
       "1628       1\n",
       "1627       1\n",
       "268923     1\n",
       "Name: students, Length: 2197, dtype: int64"
      ]
     },
     "execution_count": 6,
     "metadata": {},
     "output_type": "execute_result"
    }
   ],
   "source": [
    "dfu.students.sort_values().value_counts("
   ]
  },
  {
   "cell_type": "code",
   "execution_count": 155,
   "id": "e44e86e4",
   "metadata": {},
   "outputs": [],
   "source": [
    "# Obtener el límite superior \n",
    "def get_upper_limit(campo, data_frame):\n",
    "    upper_lim = get_quartile_three_value(campo, data_frame) + 1.5*get_iqr(campo, data_frame)\n",
    "    return upper_lim"
   ]
  },
  {
   "cell_type": "code",
   "execution_count": 156,
   "id": "23927160",
   "metadata": {},
   "outputs": [],
   "source": [
    "# Obtener el valor límite inferior \n",
    "def get_lower_limit(campo, data_frame):\n",
    "    lower_lim = get_quartile_one_value(campo, data_frame) - 1.5*get_iqr(campo, data_frame)\n",
    "    return lower_lim      "
   ]
  },
  {
   "cell_type": "code",
   "execution_count": 157,
   "id": "321b2a06",
   "metadata": {},
   "outputs": [],
   "source": [
    "# Obtener el rango intercuartil\n",
    "def get_iqr(campo, data_frame):\n",
    "    IQR = get_quartile_three_value(campo, data_frame) - get_quartile_one_value(campo, data_frame)\n",
    "    return IQR"
   ]
  },
  {
   "cell_type": "code",
   "execution_count": 158,
   "id": "e6a3e8a2",
   "metadata": {},
   "outputs": [],
   "source": [
    "# calcular el primer cuartil\n",
    "def get_quartile_one_value(campo, data_frame):\n",
    "    Q1 = data_frame[campo].quantile(0.25)\n",
    "    return Q1"
   ]
  },
  {
   "cell_type": "code",
   "execution_count": 159,
   "id": "f8747da8",
   "metadata": {},
   "outputs": [],
   "source": [
    "# calcular el tercer cuartil\n",
    "def get_quartile_three_value(campo, data_frame):\n",
    "    Q3 = data_frame[campo].quantile(0.75)\n",
    "    return Q3"
   ]
  },
  {
   "cell_type": "code",
   "execution_count": 160,
   "id": "763c73e2",
   "metadata": {},
   "outputs": [
    {
     "data": {
      "text/html": [
       "<div>\n",
       "<style scoped>\n",
       "    .dataframe tbody tr th:only-of-type {\n",
       "        vertical-align: middle;\n",
       "    }\n",
       "\n",
       "    .dataframe tbody tr th {\n",
       "        vertical-align: top;\n",
       "    }\n",
       "\n",
       "    .dataframe thead th {\n",
       "        text-align: right;\n",
       "    }\n",
       "</style>\n",
       "<table border=\"1\" class=\"dataframe\">\n",
       "  <thead>\n",
       "    <tr style=\"text-align: right;\">\n",
       "      <th></th>\n",
       "      <th>name</th>\n",
       "      <th>institution</th>\n",
       "      <th>is_university</th>\n",
       "      <th>level</th>\n",
       "      <th>students</th>\n",
       "      <th>rating</th>\n",
       "      <th>first_review_on</th>\n",
       "    </tr>\n",
       "  </thead>\n",
       "  <tbody>\n",
       "    <tr>\n",
       "      <th>0</th>\n",
       "      <td>machine learning</td>\n",
       "      <td>stanford university</td>\n",
       "      <td>1</td>\n",
       "      <td>mixed</td>\n",
       "      <td>3200000</td>\n",
       "      <td>4.8</td>\n",
       "      <td>2015-08-07</td>\n",
       "    </tr>\n",
       "    <tr>\n",
       "      <th>1</th>\n",
       "      <td>indigenous canada</td>\n",
       "      <td>university of alberta</td>\n",
       "      <td>1</td>\n",
       "      <td>mixed</td>\n",
       "      <td>51000</td>\n",
       "      <td>4.8</td>\n",
       "      <td>2017-04-09</td>\n",
       "    </tr>\n",
       "    <tr>\n",
       "      <th>2</th>\n",
       "      <td>the science of well-being</td>\n",
       "      <td>yale university</td>\n",
       "      <td>1</td>\n",
       "      <td>mixed</td>\n",
       "      <td>2500000</td>\n",
       "      <td>4.9</td>\n",
       "      <td>2018-03-29</td>\n",
       "    </tr>\n",
       "    <tr>\n",
       "      <th>3</th>\n",
       "      <td>technical support fundamentals</td>\n",
       "      <td>google</td>\n",
       "      <td>0</td>\n",
       "      <td>beginner</td>\n",
       "      <td>280000</td>\n",
       "      <td>4.8</td>\n",
       "      <td>2018-01-16</td>\n",
       "    </tr>\n",
       "    <tr>\n",
       "      <th>4</th>\n",
       "      <td>become a cbrs certified professional installer...</td>\n",
       "      <td>google - spectrum sharing</td>\n",
       "      <td>0</td>\n",
       "      <td>mixed</td>\n",
       "      <td>210000</td>\n",
       "      <td>4.9</td>\n",
       "      <td>2019-06-07</td>\n",
       "    </tr>\n",
       "  </tbody>\n",
       "</table>\n",
       "</div>"
      ],
      "text/plain": [
       "                                                name  \\\n",
       "0                                   machine learning   \n",
       "1                                  indigenous canada   \n",
       "2                          the science of well-being   \n",
       "3                     technical support fundamentals   \n",
       "4  become a cbrs certified professional installer...   \n",
       "\n",
       "                 institution  is_university     level  students  rating  \\\n",
       "0        stanford university              1     mixed   3200000     4.8   \n",
       "1      university of alberta              1     mixed     51000     4.8   \n",
       "2            yale university              1     mixed   2500000     4.9   \n",
       "3                     google              0  beginner    280000     4.8   \n",
       "4  google - spectrum sharing              0     mixed    210000     4.9   \n",
       "\n",
       "  first_review_on  \n",
       "0      2015-08-07  \n",
       "1      2017-04-09  \n",
       "2      2018-03-29  \n",
       "3      2018-01-16  \n",
       "4      2019-06-07  "
      ]
     },
     "execution_count": 160,
     "metadata": {},
     "output_type": "execute_result"
    }
   ],
   "source": [
    "dfc.head()"
   ]
  },
  {
   "cell_type": "code",
   "execution_count": 163,
   "id": "b5b42644",
   "metadata": {},
   "outputs": [
    {
     "data": {
      "text/plain": [
       "False    605\n",
       "Name: students, dtype: int64"
      ]
     },
     "execution_count": 163,
     "metadata": {},
     "output_type": "execute_result"
    }
   ],
   "source": [
    "outliers_low = (dfc.students < get_lower_limit('students', dfc)).value_counts()\n",
    "outliers_low"
   ]
  },
  {
   "cell_type": "code",
   "execution_count": 164,
   "id": "6a2a8d23",
   "metadata": {},
   "outputs": [
    {
     "data": {
      "text/plain": [
       "False    555\n",
       "True      50\n",
       "Name: students, dtype: int64"
      ]
     },
     "execution_count": 164,
     "metadata": {},
     "output_type": "execute_result"
    }
   ],
   "source": [
    "outliers_high = (dfc.students > get_upper_limit('students', dfc)).value_counts()\n",
    "outliers_high"
   ]
  },
  {
   "cell_type": "code",
   "execution_count": 165,
   "id": "8bcc4b81",
   "metadata": {},
   "outputs": [
    {
     "data": {
      "text/plain": [
       "<AxesSubplot:xlabel='students', ylabel='Count'>"
      ]
     },
     "execution_count": 165,
     "metadata": {},
     "output_type": "execute_result"
    },
    {
     "data": {
      "image/png": "[encoded data removed]",
      "text/plain": [
       "<Figure size 1008x288 with 2 Axes>"
      ]
     },
     "metadata": {
      "needs_background": "light"
     },
     "output_type": "display_data"
    }
   ],
   "source": [
    "fig, axs = plt.subplots(1, 2,  figsize=(14, 4))\n",
    "sns.boxplot(x='students', data=dfc, ax=axs[0])\n",
    "sns.histplot(x='students', data=dfc, bins=20, kde=False, ax=axs[1])"
   ]
  },
  {
   "cell_type": "code",
   "execution_count": null,
   "id": "bcad7c0e",
   "metadata": {},
   "outputs": [],
   "source": []
  },
  {
   "cell_type": "code",
   "execution_count": 174,
   "id": "3dc71fdb",
   "metadata": {},
   "outputs": [
    {
     "data": {
      "text/html": [
       "<div>\n",
       "<style scoped>\n",
       "    .dataframe tbody tr th:only-of-type {\n",
       "        vertical-align: middle;\n",
       "    }\n",
       "\n",
       "    .dataframe tbody tr th {\n",
       "        vertical-align: top;\n",
       "    }\n",
       "\n",
       "    .dataframe thead th {\n",
       "        text-align: right;\n",
       "    }\n",
       "</style>\n",
       "<table border=\"1\" class=\"dataframe\">\n",
       "  <thead>\n",
       "    <tr style=\"text-align: right;\">\n",
       "      <th></th>\n",
       "      <th>name</th>\n",
       "      <th>institution</th>\n",
       "      <th>is_university</th>\n",
       "      <th>level</th>\n",
       "      <th>students</th>\n",
       "      <th>rating</th>\n",
       "      <th>first_review_on</th>\n",
       "    </tr>\n",
       "  </thead>\n",
       "  <tbody>\n",
       "    <tr>\n",
       "      <th>0</th>\n",
       "      <td>machine learning</td>\n",
       "      <td>stanford university</td>\n",
       "      <td>1</td>\n",
       "      <td>mixed</td>\n",
       "      <td>222478</td>\n",
       "      <td>4.8</td>\n",
       "      <td>2015-08-07</td>\n",
       "    </tr>\n",
       "    <tr>\n",
       "      <th>1</th>\n",
       "      <td>indigenous canada</td>\n",
       "      <td>university of alberta</td>\n",
       "      <td>1</td>\n",
       "      <td>mixed</td>\n",
       "      <td>51000</td>\n",
       "      <td>4.8</td>\n",
       "      <td>2017-04-09</td>\n",
       "    </tr>\n",
       "    <tr>\n",
       "      <th>2</th>\n",
       "      <td>the science of well-being</td>\n",
       "      <td>yale university</td>\n",
       "      <td>1</td>\n",
       "      <td>mixed</td>\n",
       "      <td>2500000</td>\n",
       "      <td>4.9</td>\n",
       "      <td>2018-03-29</td>\n",
       "    </tr>\n",
       "    <tr>\n",
       "      <th>3</th>\n",
       "      <td>technical support fundamentals</td>\n",
       "      <td>google</td>\n",
       "      <td>0</td>\n",
       "      <td>beginner</td>\n",
       "      <td>280000</td>\n",
       "      <td>4.8</td>\n",
       "      <td>2018-01-16</td>\n",
       "    </tr>\n",
       "    <tr>\n",
       "      <th>4</th>\n",
       "      <td>become a cbrs certified professional installer...</td>\n",
       "      <td>google - spectrum sharing</td>\n",
       "      <td>0</td>\n",
       "      <td>mixed</td>\n",
       "      <td>210000</td>\n",
       "      <td>4.9</td>\n",
       "      <td>2019-06-07</td>\n",
       "    </tr>\n",
       "  </tbody>\n",
       "</table>\n",
       "</div>"
      ],
      "text/plain": [
       "                                                name  \\\n",
       "0                                   machine learning   \n",
       "1                                  indigenous canada   \n",
       "2                          the science of well-being   \n",
       "3                     technical support fundamentals   \n",
       "4  become a cbrs certified professional installer...   \n",
       "\n",
       "                 institution  is_university     level  students  rating  \\\n",
       "0        stanford university              1     mixed    222478     4.8   \n",
       "1      university of alberta              1     mixed     51000     4.8   \n",
       "2            yale university              1     mixed   2500000     4.9   \n",
       "3                     google              0  beginner    280000     4.8   \n",
       "4  google - spectrum sharing              0     mixed    210000     4.9   \n",
       "\n",
       "  first_review_on  \n",
       "0      2015-08-07  \n",
       "1      2017-04-09  \n",
       "2      2018-03-29  \n",
       "3      2018-01-16  \n",
       "4      2019-06-07  "
      ]
     },
     "execution_count": 174,
     "metadata": {},
     "output_type": "execute_result"
    }
   ],
   "source": [
    "dfc.head()"
   ]
  },
  {
   "cell_type": "code",
   "execution_count": 168,
   "id": "38c0be4f",
   "metadata": {},
   "outputs": [],
   "source": [
    "dfc.at[0,'students'] = 222478   # Este registro fue corregido debido a que el número de estudiantes en la actualidad es muy \n",
    "                                # muy inferior al número registrado."
   ]
  },
  {
   "cell_type": "code",
   "execution_count": null,
   "id": "0f1eca8a",
   "metadata": {},
   "outputs": [],
   "source": [
    "fig, axs = plt.subplots(1, 2,  figsize=(14, 4))\n",
    "sns.boxplot(x='students', data=dfe, ax=axs[0])\n",
    "sns.histplot(x='students', data=dfe, bins=20, kde=False, ax=axs[1])"
   ]
  },
  {
   "cell_type": "code",
   "execution_count": 172,
   "id": "0bbd67bb",
   "metadata": {
    "scrolled": true
   },
   "outputs": [
    {
     "data": {
      "text/plain": [
       "<AxesSubplot:xlabel='students', ylabel='Count'>"
      ]
     },
     "execution_count": 172,
     "metadata": {},
     "output_type": "execute_result"
    },
    {
     "data": {
      "image/png": "[encoded data removed]",
      "text/plain": [
       "<Figure size 1008x288 with 2 Axes>"
      ]
     },
     "metadata": {
      "needs_background": "light"
     },
     "output_type": "display_data"
    }
   ],
   "source": [
    "fig, axs = plt.subplots(1, 2,  figsize=(14, 4))\n",
    "sns.boxplot(x='students', data=dfe, ax=axs[0])\n",
    "sns.histplot(x='students', data=dfe, bins=20, kde=False, ax=axs[1])"
   ]
  },
  {
   "cell_type": "code",
   "execution_count": 173,
   "id": "3ffa9c54",
   "metadata": {
    "scrolled": true
   },
   "outputs": [
    {
     "data": {
      "text/html": [
       "<div>\n",
       "<style scoped>\n",
       "    .dataframe tbody tr th:only-of-type {\n",
       "        vertical-align: middle;\n",
       "    }\n",
       "\n",
       "    .dataframe tbody tr th {\n",
       "        vertical-align: top;\n",
       "    }\n",
       "\n",
       "    .dataframe thead th {\n",
       "        text-align: right;\n",
       "    }\n",
       "</style>\n",
       "<table border=\"1\" class=\"dataframe\">\n",
       "  <thead>\n",
       "    <tr style=\"text-align: right;\">\n",
       "      <th></th>\n",
       "      <th>name</th>\n",
       "      <th>students</th>\n",
       "      <th>course_type</th>\n",
       "      <th>institution</th>\n",
       "      <th>is_university</th>\n",
       "      <th>level</th>\n",
       "      <th>subject</th>\n",
       "      <th>hours_per_week</th>\n",
       "      <th>weeks</th>\n",
       "      <th>total_effort</th>\n",
       "      <th>price</th>\n",
       "    </tr>\n",
       "  </thead>\n",
       "  <tbody>\n",
       "    <tr>\n",
       "      <th>2</th>\n",
       "      <td>cs50's introduction to computer science</td>\n",
       "      <td>2442271</td>\n",
       "      <td>self-paced on your time</td>\n",
       "      <td>harvard university</td>\n",
       "      <td>1</td>\n",
       "      <td>beginner</td>\n",
       "      <td>computer science</td>\n",
       "      <td>12.0</td>\n",
       "      <td>12.0</td>\n",
       "      <td>144.0</td>\n",
       "      <td>90</td>\n",
       "    </tr>\n",
       "    <tr>\n",
       "      <th>28</th>\n",
       "      <td>ielts academic test preparation</td>\n",
       "      <td>1103777</td>\n",
       "      <td>self-paced on your time</td>\n",
       "      <td>the university of queensland</td>\n",
       "      <td>1</td>\n",
       "      <td>beginner</td>\n",
       "      <td>communication</td>\n",
       "      <td>7.5</td>\n",
       "      <td>8.0</td>\n",
       "      <td>60.0</td>\n",
       "      <td>99</td>\n",
       "    </tr>\n",
       "    <tr>\n",
       "      <th>30</th>\n",
       "      <td>toefl® test preparation: the insider’s guide</td>\n",
       "      <td>1022489</td>\n",
       "      <td>self-paced on your time</td>\n",
       "      <td>educational testing service</td>\n",
       "      <td>0</td>\n",
       "      <td>beginner</td>\n",
       "      <td>communication</td>\n",
       "      <td>3.0</td>\n",
       "      <td>6.0</td>\n",
       "      <td>18.0</td>\n",
       "      <td>49</td>\n",
       "    </tr>\n",
       "  </tbody>\n",
       "</table>\n",
       "</div>"
      ],
      "text/plain": [
       "                                            name  students  \\\n",
       "2        cs50's introduction to computer science   2442271   \n",
       "28               ielts academic test preparation   1103777   \n",
       "30  toefl® test preparation: the insider’s guide   1022489   \n",
       "\n",
       "                course_type                   institution  is_university  \\\n",
       "2   self-paced on your time            harvard university              1   \n",
       "28  self-paced on your time  the university of queensland              1   \n",
       "30  self-paced on your time   educational testing service              0   \n",
       "\n",
       "       level           subject  hours_per_week  weeks  total_effort  price  \n",
       "2   beginner  computer science            12.0   12.0         144.0     90  \n",
       "28  beginner     communication             7.5    8.0          60.0     99  \n",
       "30  beginner     communication             3.0    6.0          18.0     49  "
      ]
     },
     "execution_count": 173,
     "metadata": {},
     "output_type": "execute_result"
    }
   ],
   "source": [
    "dfe[dfe.students > 1000000]"
   ]
  },
  {
   "cell_type": "markdown",
   "id": "cf07102c",
   "metadata": {},
   "source": [
    "####  Al resto de los outliers decidimos no tratarlos"
   ]
  },
  {
   "cell_type": "code",
   "execution_count": 224,
   "id": "fbf76fad",
   "metadata": {},
   "outputs": [],
   "source": [
    "dfc.to_csv('dataSets\\\\para_dashboard\\\\coursera.csv', index = False)"
   ]
  },
  {
   "cell_type": "code",
   "execution_count": null,
   "id": "09129ad4",
   "metadata": {},
   "outputs": [],
   "source": []
  }
 ],
 "metadata": {
  "kernelspec": {
   "display_name": "Python 3 (ipykernel)",
   "language": "python",
   "name": "python3"
  },
  "language_info": {
   "codemirror_mode": {
    "name": "ipython",
    "version": 3
   },
   "file_extension": ".py",
   "mimetype": "text/x-python",
   "name": "python",
   "nbconvert_exporter": "python",
   "pygments_lexer": "ipython3",
   "version": "3.9.12"
  }
 },
 "nbformat": 4,
 "nbformat_minor": 5
}
