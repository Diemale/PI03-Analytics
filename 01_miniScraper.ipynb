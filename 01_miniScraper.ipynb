{
 "cells": [
  {
   "cell_type": "markdown",
   "id": "ddd957ee",
   "metadata": {},
   "source": [
    "## Web Scraping "
   ]
  },
  {
   "cell_type": "code",
   "execution_count": 2,
   "id": "2995c63f",
   "metadata": {},
   "outputs": [],
   "source": [
    "import pandas as pd\n",
    "#import numpy as np\n",
    "import requests\n",
    "from bs4 import BeautifulSoup"
   ]
  },
  {
   "cell_type": "code",
   "execution_count": 3,
   "id": "47ad1493",
   "metadata": {},
   "outputs": [],
   "source": [
    "dfu = pd.read_csv('dataSets\\\\udemy_courses.csv') "
   ]
  },
  {
   "cell_type": "markdown",
   "id": "2f425fa2",
   "metadata": {},
   "source": [
    "### Vamos a Intentar recuperar datos sobre los rankings de Udemy, desde las páginas webs, para esto vamos a utilizar las urls del dataset."
   ]
  },
  {
   "cell_type": "code",
   "execution_count": 28,
   "id": "f81f9088",
   "metadata": {},
   "outputs": [],
   "source": [
    "#dfu.head()"
   ]
  },
  {
   "cell_type": "code",
   "execution_count": 5,
   "id": "66a8ca8b",
   "metadata": {},
   "outputs": [],
   "source": [
    "def get_soup(a_course_url):   \n",
    "    # hago una request a la url de la lista pasada como parámetro, creo mi objeto BeautifulSoup\n",
    "    page = requests.get(a_course_url).text\n",
    "    soup = BeautifulSoup(page, 'html.parser')\n",
    "    \n",
    "    return soup"
   ]
  },
  {
   "cell_type": "code",
   "execution_count": 6,
   "id": "b51f10d6",
   "metadata": {},
   "outputs": [],
   "source": [
    "# obtener el texto del tag aislado\n",
    "def get_text_from_span(a_soup):\n",
    "    try:\n",
    "        texts = []\n",
    "        text = a_soup.find_all('span', class_=\"ud-sr-only\")[0].text\n",
    "        texts.append(text)\n",
    "    except (IndexError): \n",
    "        texts.append('')\n",
    "    \n",
    "    return texts"
   ]
  },
  {
   "cell_type": "code",
   "execution_count": 8,
   "id": "c8d1b488",
   "metadata": {},
   "outputs": [],
   "source": [
    "def concatenate_dataframe(text_list, data_frame):\n",
    "    df = data_frame\n",
    "    df2 = pd.DataFrame(text_list).T\n",
    "       \n",
    "    df = pd.concat([df, df2])    \n",
    "    return df"
   ]
  },
  {
   "cell_type": "markdown",
   "id": "e1ac4292",
   "metadata": {},
   "source": [
    "Este es el tag dónde se guarda la información de los rankings en Udemy: __\\<span class=\"ud-sr-only\">Calificación: 4,6 de 5</span>__"
   ]
  },
  {
   "cell_type": "code",
   "execution_count": 12,
   "id": "8417ea8a",
   "metadata": {},
   "outputs": [],
   "source": [
    "my_df = pd.DataFrame(columns =[0, 1])"
   ]
  },
  {
   "cell_type": "code",
   "execution_count": 10,
   "id": "afca51e9",
   "metadata": {},
   "outputs": [],
   "source": [
    "my_df2 = pd.DataFrame(columns =[0, 1])"
   ]
  },
  {
   "cell_type": "markdown",
   "id": "22176963",
   "metadata": {},
   "source": [
    "### Debajo está el algoritmo utilizado para recoger información de Udemy"
   ]
  },
  {
   "cell_type": "code",
   "execution_count": 19,
   "id": "27ebd5d9",
   "metadata": {},
   "outputs": [],
   "source": [
    "# %%time\n",
    "# contador = 0\n",
    "# for url in dfu.url:\n",
    "#     my_soup = get_soup(url)\n",
    "#     my_text_list = get_text_from_span(my_soup)\n",
    "#     my_text_list.append(url)\n",
    "#     my_df2 = concatenate_dataframe(my_text_list, my_df2)\n",
    "#     contador +=1\n",
    "#     print(contador)"
   ]
  },
  {
   "cell_type": "code",
   "execution_count": 20,
   "id": "f28b8ff5",
   "metadata": {},
   "outputs": [],
   "source": [
    "my_df = pd.concat([my_df, my_df2])"
   ]
  },
  {
   "cell_type": "code",
   "execution_count": 25,
   "id": "f74ef663",
   "metadata": {},
   "outputs": [],
   "source": [
    "my_df = my_df.rename(columns = {0:'rating', 1: 'url'})"
   ]
  },
  {
   "cell_type": "markdown",
   "id": "ca755563",
   "metadata": {},
   "source": [
    "<div class=\"ProductGlance _9cam1z p-t-2\">"
   ]
  },
  {
   "cell_type": "code",
   "execution_count": 27,
   "id": "bf22adb9",
   "metadata": {},
   "outputs": [],
   "source": [
    "my_df.to_csv('dataSets\\\\udemy_rankings.csv')"
   ]
  },
  {
   "cell_type": "code",
   "execution_count": null,
   "id": "3726d89a",
   "metadata": {},
   "outputs": [],
   "source": []
  }
 ],
 "metadata": {
  "kernelspec": {
   "display_name": "Python 3 (ipykernel)",
   "language": "python",
   "name": "python3"
  },
  "language_info": {
   "codemirror_mode": {
    "name": "ipython",
    "version": 3
   },
   "file_extension": ".py",
   "mimetype": "text/x-python",
   "name": "python",
   "nbconvert_exporter": "python",
   "pygments_lexer": "ipython3",
   "version": "3.9.12"
  }
 },
 "nbformat": 4,
 "nbformat_minor": 5
}
